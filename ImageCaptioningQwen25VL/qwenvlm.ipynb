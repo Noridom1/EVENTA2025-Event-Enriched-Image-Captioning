{
  "cells": [
    {
      "cell_type": "code",
      "execution_count": null,
      "metadata": {
        "colab": {
          "base_uri": "https://localhost:8080/"
        },
        "id": "3O5Q_mZdtHz_",
        "outputId": "d043f705-59bf-4b8c-de95-69f071262ee2"
      },
      "outputs": [
        {
          "name": "stdout",
          "output_type": "stream",
          "text": [
            "Mounted at /content/drive\n"
          ]
        }
      ],
      "source": [
        "from google.colab import drive\n",
        "drive.mount('/content/drive')"
      ]
    },
    {
      "cell_type": "code",
      "execution_count": null,
      "metadata": {
        "colab": {
          "base_uri": "https://localhost:8080/",
          "height": 1000
        },
        "id": "WgcJ1UJFmDnn",
        "outputId": "71315f0b-09f3-41fa-e96e-625621bfdf7a"
      },
      "outputs": [
        {
          "name": "stdout",
          "output_type": "stream",
          "text": [
            "Collecting qwen-vl-utils==0.0.8 (from qwen-vl-utils[decord]==0.0.8)\n",
            "  Downloading qwen_vl_utils-0.0.8-py3-none-any.whl.metadata (3.6 kB)\n",
            "Collecting av (from qwen-vl-utils==0.0.8->qwen-vl-utils[decord]==0.0.8)\n",
            "  Downloading av-14.4.0-cp311-cp311-manylinux_2_17_x86_64.manylinux2014_x86_64.whl.metadata (4.6 kB)\n",
            "Requirement already satisfied: packaging in /usr/local/lib/python3.11/dist-packages (from qwen-vl-utils==0.0.8->qwen-vl-utils[decord]==0.0.8) (24.2)\n",
            "Requirement already satisfied: pillow in /usr/local/lib/python3.11/dist-packages (from qwen-vl-utils==0.0.8->qwen-vl-utils[decord]==0.0.8) (11.2.1)\n",
            "Requirement already satisfied: requests in /usr/local/lib/python3.11/dist-packages (from qwen-vl-utils==0.0.8->qwen-vl-utils[decord]==0.0.8) (2.32.3)\n",
            "Collecting decord (from qwen-vl-utils[decord]==0.0.8)\n",
            "  Downloading decord-0.6.0-py3-none-manylinux2010_x86_64.whl.metadata (422 bytes)\n",
            "Requirement already satisfied: numpy>=1.14.0 in /usr/local/lib/python3.11/dist-packages (from decord->qwen-vl-utils[decord]==0.0.8) (2.0.2)\n",
            "Requirement already satisfied: charset-normalizer<4,>=2 in /usr/local/lib/python3.11/dist-packages (from requests->qwen-vl-utils==0.0.8->qwen-vl-utils[decord]==0.0.8) (3.4.2)\n",
            "Requirement already satisfied: idna<4,>=2.5 in /usr/local/lib/python3.11/dist-packages (from requests->qwen-vl-utils==0.0.8->qwen-vl-utils[decord]==0.0.8) (3.10)\n",
            "Requirement already satisfied: urllib3<3,>=1.21.1 in /usr/local/lib/python3.11/dist-packages (from requests->qwen-vl-utils==0.0.8->qwen-vl-utils[decord]==0.0.8) (2.4.0)\n",
            "Requirement already satisfied: certifi>=2017.4.17 in /usr/local/lib/python3.11/dist-packages (from requests->qwen-vl-utils==0.0.8->qwen-vl-utils[decord]==0.0.8) (2025.6.15)\n",
            "Downloading qwen_vl_utils-0.0.8-py3-none-any.whl (5.9 kB)\n",
            "Downloading av-14.4.0-cp311-cp311-manylinux_2_17_x86_64.manylinux2014_x86_64.whl (35.3 MB)\n",
            "\u001b[2K   \u001b[90m━━━━━━━━━━━━━━━━━━━━━━━━━━━━━━━━━━━━━━━━\u001b[0m \u001b[32m35.3/35.3 MB\u001b[0m \u001b[31m67.5 MB/s\u001b[0m eta \u001b[36m0:00:00\u001b[0m\n",
            "\u001b[?25hDownloading decord-0.6.0-py3-none-manylinux2010_x86_64.whl (13.6 MB)\n",
            "\u001b[2K   \u001b[90m━━━━━━━━━━━━━━━━━━━━━━━━━━━━━━━━━━━━━━━━\u001b[0m \u001b[32m13.6/13.6 MB\u001b[0m \u001b[31m123.7 MB/s\u001b[0m eta \u001b[36m0:00:00\u001b[0m\n",
            "\u001b[?25hInstalling collected packages: decord, av, qwen-vl-utils\n",
            "Successfully installed av-14.4.0 decord-0.6.0 qwen-vl-utils-0.0.8\n",
            "Collecting git+https://github.com/huggingface/transformers\n",
            "  Cloning https://github.com/huggingface/transformers to /tmp/pip-req-build-if2c8jwl\n",
            "  Running command git clone --filter=blob:none --quiet https://github.com/huggingface/transformers /tmp/pip-req-build-if2c8jwl\n",
            "  Resolved https://github.com/huggingface/transformers to commit 21cb353b7b4f77c6f5f5c3341d660f86ff416d04\n",
            "  Installing build dependencies ... \u001b[?25l\u001b[?25hdone\n",
            "  Getting requirements to build wheel ... \u001b[?25l\u001b[?25hdone\n",
            "  Preparing metadata (pyproject.toml) ... \u001b[?25l\u001b[?25hdone\n",
            "Requirement already satisfied: accelerate in /usr/local/lib/python3.11/dist-packages (1.7.0)\n",
            "Requirement already satisfied: filelock in /usr/local/lib/python3.11/dist-packages (from transformers==4.53.0.dev0) (3.18.0)\n",
            "Requirement already satisfied: huggingface-hub<1.0,>=0.30.0 in /usr/local/lib/python3.11/dist-packages (from transformers==4.53.0.dev0) (0.33.0)\n",
            "Requirement already satisfied: numpy>=1.17 in /usr/local/lib/python3.11/dist-packages (from transformers==4.53.0.dev0) (2.0.2)\n",
            "Requirement already satisfied: packaging>=20.0 in /usr/local/lib/python3.11/dist-packages (from transformers==4.53.0.dev0) (24.2)\n",
            "Requirement already satisfied: pyyaml>=5.1 in /usr/local/lib/python3.11/dist-packages (from transformers==4.53.0.dev0) (6.0.2)\n",
            "Requirement already satisfied: regex!=2019.12.17 in /usr/local/lib/python3.11/dist-packages (from transformers==4.53.0.dev0) (2024.11.6)\n",
            "Requirement already satisfied: requests in /usr/local/lib/python3.11/dist-packages (from transformers==4.53.0.dev0) (2.32.3)\n",
            "Requirement already satisfied: tokenizers<0.22,>=0.21 in /usr/local/lib/python3.11/dist-packages (from transformers==4.53.0.dev0) (0.21.1)\n",
            "Requirement already satisfied: safetensors>=0.4.3 in /usr/local/lib/python3.11/dist-packages (from transformers==4.53.0.dev0) (0.5.3)\n",
            "Requirement already satisfied: tqdm>=4.27 in /usr/local/lib/python3.11/dist-packages (from transformers==4.53.0.dev0) (4.67.1)\n",
            "Requirement already satisfied: psutil in /usr/local/lib/python3.11/dist-packages (from accelerate) (5.9.5)\n",
            "Requirement already satisfied: torch>=2.0.0 in /usr/local/lib/python3.11/dist-packages (from accelerate) (2.6.0+cu124)\n",
            "Requirement already satisfied: fsspec>=2023.5.0 in /usr/local/lib/python3.11/dist-packages (from huggingface-hub<1.0,>=0.30.0->transformers==4.53.0.dev0) (2025.3.2)\n",
            "Requirement already satisfied: typing-extensions>=3.7.4.3 in /usr/local/lib/python3.11/dist-packages (from huggingface-hub<1.0,>=0.30.0->transformers==4.53.0.dev0) (4.14.0)\n",
            "Requirement already satisfied: hf-xet<2.0.0,>=1.1.2 in /usr/local/lib/python3.11/dist-packages (from huggingface-hub<1.0,>=0.30.0->transformers==4.53.0.dev0) (1.1.3)\n",
            "Requirement already satisfied: networkx in /usr/local/lib/python3.11/dist-packages (from torch>=2.0.0->accelerate) (3.5)\n",
            "Requirement already satisfied: jinja2 in /usr/local/lib/python3.11/dist-packages (from torch>=2.0.0->accelerate) (3.1.6)\n",
            "Collecting nvidia-cuda-nvrtc-cu12==12.4.127 (from torch>=2.0.0->accelerate)\n",
            "  Downloading nvidia_cuda_nvrtc_cu12-12.4.127-py3-none-manylinux2014_x86_64.whl.metadata (1.5 kB)\n",
            "Collecting nvidia-cuda-runtime-cu12==12.4.127 (from torch>=2.0.0->accelerate)\n",
            "  Downloading nvidia_cuda_runtime_cu12-12.4.127-py3-none-manylinux2014_x86_64.whl.metadata (1.5 kB)\n",
            "Collecting nvidia-cuda-cupti-cu12==12.4.127 (from torch>=2.0.0->accelerate)\n",
            "  Downloading nvidia_cuda_cupti_cu12-12.4.127-py3-none-manylinux2014_x86_64.whl.metadata (1.6 kB)\n",
            "Collecting nvidia-cudnn-cu12==9.1.0.70 (from torch>=2.0.0->accelerate)\n",
            "  Downloading nvidia_cudnn_cu12-9.1.0.70-py3-none-manylinux2014_x86_64.whl.metadata (1.6 kB)\n",
            "Collecting nvidia-cublas-cu12==12.4.5.8 (from torch>=2.0.0->accelerate)\n",
            "  Downloading nvidia_cublas_cu12-12.4.5.8-py3-none-manylinux2014_x86_64.whl.metadata (1.5 kB)\n",
            "Collecting nvidia-cufft-cu12==11.2.1.3 (from torch>=2.0.0->accelerate)\n",
            "  Downloading nvidia_cufft_cu12-11.2.1.3-py3-none-manylinux2014_x86_64.whl.metadata (1.5 kB)\n",
            "Collecting nvidia-curand-cu12==10.3.5.147 (from torch>=2.0.0->accelerate)\n",
            "  Downloading nvidia_curand_cu12-10.3.5.147-py3-none-manylinux2014_x86_64.whl.metadata (1.5 kB)\n",
            "Collecting nvidia-cusolver-cu12==11.6.1.9 (from torch>=2.0.0->accelerate)\n",
            "  Downloading nvidia_cusolver_cu12-11.6.1.9-py3-none-manylinux2014_x86_64.whl.metadata (1.6 kB)\n",
            "Collecting nvidia-cusparse-cu12==12.3.1.170 (from torch>=2.0.0->accelerate)\n",
            "  Downloading nvidia_cusparse_cu12-12.3.1.170-py3-none-manylinux2014_x86_64.whl.metadata (1.6 kB)\n",
            "Requirement already satisfied: nvidia-cusparselt-cu12==0.6.2 in /usr/local/lib/python3.11/dist-packages (from torch>=2.0.0->accelerate) (0.6.2)\n",
            "Requirement already satisfied: nvidia-nccl-cu12==2.21.5 in /usr/local/lib/python3.11/dist-packages (from torch>=2.0.0->accelerate) (2.21.5)\n",
            "Requirement already satisfied: nvidia-nvtx-cu12==12.4.127 in /usr/local/lib/python3.11/dist-packages (from torch>=2.0.0->accelerate) (12.4.127)\n",
            "Collecting nvidia-nvjitlink-cu12==12.4.127 (from torch>=2.0.0->accelerate)\n",
            "  Downloading nvidia_nvjitlink_cu12-12.4.127-py3-none-manylinux2014_x86_64.whl.metadata (1.5 kB)\n",
            "Requirement already satisfied: triton==3.2.0 in /usr/local/lib/python3.11/dist-packages (from torch>=2.0.0->accelerate) (3.2.0)\n",
            "Requirement already satisfied: sympy==1.13.1 in /usr/local/lib/python3.11/dist-packages (from torch>=2.0.0->accelerate) (1.13.1)\n",
            "Requirement already satisfied: mpmath<1.4,>=1.1.0 in /usr/local/lib/python3.11/dist-packages (from sympy==1.13.1->torch>=2.0.0->accelerate) (1.3.0)\n",
            "Requirement already satisfied: charset-normalizer<4,>=2 in /usr/local/lib/python3.11/dist-packages (from requests->transformers==4.53.0.dev0) (3.4.2)\n",
            "Requirement already satisfied: idna<4,>=2.5 in /usr/local/lib/python3.11/dist-packages (from requests->transformers==4.53.0.dev0) (3.10)\n",
            "Requirement already satisfied: urllib3<3,>=1.21.1 in /usr/local/lib/python3.11/dist-packages (from requests->transformers==4.53.0.dev0) (2.4.0)\n",
            "Requirement already satisfied: certifi>=2017.4.17 in /usr/local/lib/python3.11/dist-packages (from requests->transformers==4.53.0.dev0) (2025.6.15)\n",
            "Requirement already satisfied: MarkupSafe>=2.0 in /usr/local/lib/python3.11/dist-packages (from jinja2->torch>=2.0.0->accelerate) (3.0.2)\n",
            "Downloading nvidia_cublas_cu12-12.4.5.8-py3-none-manylinux2014_x86_64.whl (363.4 MB)\n",
            "\u001b[2K   \u001b[90m━━━━━━━━━━━━━━━━━━━━━━━━━━━━━━━━━━━━━━━━\u001b[0m \u001b[32m363.4/363.4 MB\u001b[0m \u001b[31m2.5 MB/s\u001b[0m eta \u001b[36m0:00:00\u001b[0m\n",
            "\u001b[?25hDownloading nvidia_cuda_cupti_cu12-12.4.127-py3-none-manylinux2014_x86_64.whl (13.8 MB)\n",
            "\u001b[2K   \u001b[90m━━━━━━━━━━━━━━━━━━━━━━━━━━━━━━━━━━━━━━━━\u001b[0m \u001b[32m13.8/13.8 MB\u001b[0m \u001b[31m121.1 MB/s\u001b[0m eta \u001b[36m0:00:00\u001b[0m\n",
            "\u001b[?25hDownloading nvidia_cuda_nvrtc_cu12-12.4.127-py3-none-manylinux2014_x86_64.whl (24.6 MB)\n",
            "\u001b[2K   \u001b[90m━━━━━━━━━━━━━━━━━━━━━━━━━━━━━━━━━━━━━━━━\u001b[0m \u001b[32m24.6/24.6 MB\u001b[0m \u001b[31m95.8 MB/s\u001b[0m eta \u001b[36m0:00:00\u001b[0m\n",
            "\u001b[?25hDownloading nvidia_cuda_runtime_cu12-12.4.127-py3-none-manylinux2014_x86_64.whl (883 kB)\n",
            "\u001b[2K   \u001b[90m━━━━━━━━━━━━━━━━━━━━━━━━━━━━━━━━━━━━━━━━\u001b[0m \u001b[32m883.7/883.7 kB\u001b[0m \u001b[31m58.0 MB/s\u001b[0m eta \u001b[36m0:00:00\u001b[0m\n",
            "\u001b[?25hDownloading nvidia_cudnn_cu12-9.1.0.70-py3-none-manylinux2014_x86_64.whl (664.8 MB)\n",
            "\u001b[2K   \u001b[90m━━━━━━━━━━━━━━━━━━━━━━━━━━━━━━━━━━━━━━━━\u001b[0m \u001b[32m664.8/664.8 MB\u001b[0m \u001b[31m1.7 MB/s\u001b[0m eta \u001b[36m0:00:00\u001b[0m\n",
            "\u001b[?25hDownloading nvidia_cufft_cu12-11.2.1.3-py3-none-manylinux2014_x86_64.whl (211.5 MB)\n",
            "\u001b[2K   \u001b[90m━━━━━━━━━━━━━━━━━━━━━━━━━━━━━━━━━━━━━━━━\u001b[0m \u001b[32m211.5/211.5 MB\u001b[0m \u001b[31m11.4 MB/s\u001b[0m eta \u001b[36m0:00:00\u001b[0m\n",
            "\u001b[?25hDownloading nvidia_curand_cu12-10.3.5.147-py3-none-manylinux2014_x86_64.whl (56.3 MB)\n",
            "\u001b[2K   \u001b[90m━━━━━━━━━━━━━━━━━━━━━━━━━━━━━━━━━━━━━━━━\u001b[0m \u001b[32m56.3/56.3 MB\u001b[0m \u001b[31m41.0 MB/s\u001b[0m eta \u001b[36m0:00:00\u001b[0m\n",
            "\u001b[?25hDownloading nvidia_cusolver_cu12-11.6.1.9-py3-none-manylinux2014_x86_64.whl (127.9 MB)\n",
            "\u001b[2K   \u001b[90m━━━━━━━━━━━━━━━━━━━━━━━━━━━━━━━━━━━━━━━━\u001b[0m \u001b[32m127.9/127.9 MB\u001b[0m \u001b[31m9.9 MB/s\u001b[0m eta \u001b[36m0:00:00\u001b[0m\n",
            "\u001b[?25hDownloading nvidia_cusparse_cu12-12.3.1.170-py3-none-manylinux2014_x86_64.whl (207.5 MB)\n",
            "\u001b[2K   \u001b[90m━━━━━━━━━━━━━━━━━━━━━━━━━━━━━━━━━━━━━━━━\u001b[0m \u001b[32m207.5/207.5 MB\u001b[0m \u001b[31m5.6 MB/s\u001b[0m eta \u001b[36m0:00:00\u001b[0m\n",
            "\u001b[?25hDownloading nvidia_nvjitlink_cu12-12.4.127-py3-none-manylinux2014_x86_64.whl (21.1 MB)\n",
            "\u001b[2K   \u001b[90m━━━━━━━━━━━━━━━━━━━━━━━━━━━━━━━━━━━━━━━━\u001b[0m \u001b[32m21.1/21.1 MB\u001b[0m \u001b[31m105.9 MB/s\u001b[0m eta \u001b[36m0:00:00\u001b[0m\n",
            "\u001b[?25hBuilding wheels for collected packages: transformers\n",
            "  Building wheel for transformers (pyproject.toml) ... \u001b[?25l\u001b[?25hdone\n",
            "  Created wheel for transformers: filename=transformers-4.53.0.dev0-py3-none-any.whl size=11446517 sha256=703b26f50ff146815903c70e8ac4c250bd457827d8bc1d3e07b74daf6c1a958f\n",
            "  Stored in directory: /tmp/pip-ephem-wheel-cache-8uuedfgt/wheels/04/a3/f1/b88775f8e1665827525b19ac7590250f1038d947067beba9fb\n",
            "Successfully built transformers\n",
            "Installing collected packages: nvidia-nvjitlink-cu12, nvidia-curand-cu12, nvidia-cufft-cu12, nvidia-cuda-runtime-cu12, nvidia-cuda-nvrtc-cu12, nvidia-cuda-cupti-cu12, nvidia-cublas-cu12, nvidia-cusparse-cu12, nvidia-cudnn-cu12, nvidia-cusolver-cu12, transformers\n",
            "  Attempting uninstall: nvidia-nvjitlink-cu12\n",
            "    Found existing installation: nvidia-nvjitlink-cu12 12.5.82\n",
            "    Uninstalling nvidia-nvjitlink-cu12-12.5.82:\n",
            "      Successfully uninstalled nvidia-nvjitlink-cu12-12.5.82\n",
            "  Attempting uninstall: nvidia-curand-cu12\n",
            "    Found existing installation: nvidia-curand-cu12 10.3.6.82\n",
            "    Uninstalling nvidia-curand-cu12-10.3.6.82:\n",
            "      Successfully uninstalled nvidia-curand-cu12-10.3.6.82\n",
            "  Attempting uninstall: nvidia-cufft-cu12\n",
            "    Found existing installation: nvidia-cufft-cu12 11.2.3.61\n",
            "    Uninstalling nvidia-cufft-cu12-11.2.3.61:\n",
            "      Successfully uninstalled nvidia-cufft-cu12-11.2.3.61\n",
            "  Attempting uninstall: nvidia-cuda-runtime-cu12\n",
            "    Found existing installation: nvidia-cuda-runtime-cu12 12.5.82\n",
            "    Uninstalling nvidia-cuda-runtime-cu12-12.5.82:\n",
            "      Successfully uninstalled nvidia-cuda-runtime-cu12-12.5.82\n",
            "  Attempting uninstall: nvidia-cuda-nvrtc-cu12\n",
            "    Found existing installation: nvidia-cuda-nvrtc-cu12 12.5.82\n",
            "    Uninstalling nvidia-cuda-nvrtc-cu12-12.5.82:\n",
            "      Successfully uninstalled nvidia-cuda-nvrtc-cu12-12.5.82\n",
            "  Attempting uninstall: nvidia-cuda-cupti-cu12\n",
            "    Found existing installation: nvidia-cuda-cupti-cu12 12.5.82\n",
            "    Uninstalling nvidia-cuda-cupti-cu12-12.5.82:\n",
            "      Successfully uninstalled nvidia-cuda-cupti-cu12-12.5.82\n",
            "  Attempting uninstall: nvidia-cublas-cu12\n",
            "    Found existing installation: nvidia-cublas-cu12 12.5.3.2\n",
            "    Uninstalling nvidia-cublas-cu12-12.5.3.2:\n",
            "      Successfully uninstalled nvidia-cublas-cu12-12.5.3.2\n",
            "  Attempting uninstall: nvidia-cusparse-cu12\n",
            "    Found existing installation: nvidia-cusparse-cu12 12.5.1.3\n",
            "    Uninstalling nvidia-cusparse-cu12-12.5.1.3:\n",
            "      Successfully uninstalled nvidia-cusparse-cu12-12.5.1.3\n",
            "  Attempting uninstall: nvidia-cudnn-cu12\n",
            "    Found existing installation: nvidia-cudnn-cu12 9.3.0.75\n",
            "    Uninstalling nvidia-cudnn-cu12-9.3.0.75:\n",
            "      Successfully uninstalled nvidia-cudnn-cu12-9.3.0.75\n",
            "  Attempting uninstall: nvidia-cusolver-cu12\n",
            "    Found existing installation: nvidia-cusolver-cu12 11.6.3.83\n",
            "    Uninstalling nvidia-cusolver-cu12-11.6.3.83:\n",
            "      Successfully uninstalled nvidia-cusolver-cu12-11.6.3.83\n",
            "  Attempting uninstall: transformers\n",
            "    Found existing installation: transformers 4.52.4\n",
            "    Uninstalling transformers-4.52.4:\n",
            "      Successfully uninstalled transformers-4.52.4\n",
            "Successfully installed nvidia-cublas-cu12-12.4.5.8 nvidia-cuda-cupti-cu12-12.4.127 nvidia-cuda-nvrtc-cu12-12.4.127 nvidia-cuda-runtime-cu12-12.4.127 nvidia-cudnn-cu12-9.1.0.70 nvidia-cufft-cu12-11.2.1.3 nvidia-curand-cu12-10.3.5.147 nvidia-cusolver-cu12-11.6.1.9 nvidia-cusparse-cu12-12.3.1.170 nvidia-nvjitlink-cu12-12.4.127 transformers-4.53.0.dev0\n"
          ]
        },
        {
          "data": {
            "application/vnd.colab-display-data+json": {
              "id": "c6057ab3b13b4a30a5ff5a0d2f3db675",
              "pip_warning": {
                "packages": [
                  "nvidia",
                  "transformers"
                ]
              }
            }
          },
          "metadata": {},
          "output_type": "display_data"
        }
      ],
      "source": [
        "# It's highly recommanded to use `[decord]` feature for faster video loading.\n",
        "!pip install qwen-vl-utils[decord]==0.0.8\n",
        "!pip install git+https://github.com/huggingface/transformers accelerate"
      ]
    },
    {
      "cell_type": "code",
      "execution_count": null,
      "metadata": {
        "id": "Kz7jCIXmfHgE"
      },
      "outputs": [],
      "source": [
        "from huggingface_hub import login\n",
        "\n",
        "login(\"<hugginface_token>\")"
      ]
    },
    {
      "cell_type": "code",
      "execution_count": null,
      "metadata": {
        "id": "M4g2bIwWo2l4"
      },
      "outputs": [],
      "source": [
        "from genericpath import exists\n",
        "import zipfile\n",
        "import os\n",
        "import shutil\n",
        "\n",
        "# Path to your zip file\n",
        "#zip_path = \"/content/drive/MyDrive/[EVENTA 2025] Event-Enriched Image Captioning/Database/R1_img_giant.zip\"\n",
        "zip_path = \"/content/drive/MyDrive/[EVENTA 2025] Event-Enriched Image Captioning/Database/r100_image_1.zip\"\n",
        "# Destination folder\n",
        "extract_path = \"/content/r100_image_1\"\n",
        "os.makedirs('data', exist_ok=True)\n",
        "\n",
        "# Extract\n",
        "with zipfile.ZipFile(zip_path, 'r') as zip_ref:\n",
        "    zip_ref.extractall(extract_path)"
      ]
    },
    {
      "cell_type": "code",
      "execution_count": null,
      "metadata": {
        "colab": {
          "base_uri": "https://localhost:8080/"
        },
        "id": "7eVPjIxdwce4",
        "outputId": "901e85e1-5427-43ba-d084-30108009ff3d"
      },
      "outputs": [
        {
          "data": {
            "text/plain": [
              "0"
            ]
          },
          "execution_count": 43,
          "metadata": {},
          "output_type": "execute_result"
        }
      ],
      "source": [
        "import gc\n",
        "import torch\n",
        "\n",
        "#model.cpu()\n",
        "del model\n",
        "torch.cuda.empty_cache()\n",
        "gc.collect()"
      ]
    },
    {
      "cell_type": "code",
      "execution_count": null,
      "metadata": {
        "colab": {
          "base_uri": "https://localhost:8080/",
          "height": 53
        },
        "id": "cIbBoQ-11K_g",
        "outputId": "9b6b0b7d-ad57-47d7-fca8-64f946818dc1"
      },
      "outputs": [
        {
          "name": "stdout",
          "output_type": "stream",
          "text": [
            "✅ Empty JSON created with 1982 entries → /content/qwenvlm7b.json\n"
          ]
        },
        {
          "data": {
            "application/vnd.google.colaboratory.intrinsic+json": {
              "type": "string"
            },
            "text/plain": [
              "'/content/drive/MyDrive/[EVENTA 2025] Event-Enriched Image Captioning/vlm/qwenvlm7b.json'"
            ]
          },
          "execution_count": 14,
          "metadata": {},
          "output_type": "execute_result"
        }
      ],
      "source": [
        "import os\n",
        "import json\n",
        "\n",
        "# Path to image directory and save location\n",
        "#image_dir = \"/content/R1_img_giant\"\n",
        "#save_path_local = \"/content/qwenvlm7b.json\"\n",
        "#save_path_drive = \"/content/drive/MyDrive/[EVENTA 2025] Event-Enriched Image Captioning/vlm/qwenvlm7b.json\"\n",
        "image_dir = \"/content/r100_image_1\"\n",
        "save_path_local = \"/content/148_c.json\"\n",
        "save_path_drive = \"/content/drive/MyDrive/[EVENTA 2025] Event-Enriched Image Captioning/vlm/148_c.json\"\n",
        "\n",
        "# Collect image filenames\n",
        "image_files = sorted([\n",
        "    f for f in os.listdir(image_dir)\n",
        "    if f.lower().endswith((\".jpg\", \".jpeg\", \".png\"))\n",
        "])\n",
        "\n",
        "# Create dictionary with empty strings\n",
        "empty_results = {filename: \"\" for filename in image_files}\n",
        "\n",
        "# Save to JSON\n",
        "with open(save_path_local, \"w\", encoding=\"utf-8\") as f:\n",
        "    json.dump(empty_results, f, indent=2, ensure_ascii=False)\n",
        "\n",
        "print(f\"✅ Empty JSON created with {len(empty_results)} entries → {save_path_local}\")\n",
        "\n",
        "with open(save_path_local, \"w\", encoding=\"utf-8\") as f:\n",
        "    json.dump(empty_results, f, indent=2, ensure_ascii=False)\n",
        "shutil.copy(save_path_local, save_path_drive)\n"
      ]
    },
    {
      "cell_type": "code",
      "execution_count": null,
      "metadata": {
        "colab": {
          "base_uri": "https://localhost:8080/",
          "height": 173,
          "referenced_widgets": [
            "c79c8be28ef44f63bad951ee6900cda3",
            "943bc237a6ac467891b04968ea2abc7f",
            "583737562b8a4837a697bd5bb0ac790b",
            "ab35ed4de3474b34b132bc1454191ea8",
            "91530e01c8fb4a049b316ffeabfd6d11",
            "74cf2d2840234cc6ac2b407e13ad90d4",
            "82832e1df8164328a6e1179b10b75c11",
            "9f2658dcc36b4b59869980ea9b1bee11",
            "770eab4a3f6c4a1da2f3784b7c2000bb",
            "038e418ae82e4f74b9762b7bf1d14ad4",
            "787e63eeb8dd4ca485dd4d2e3ad11a03"
          ]
        },
        "id": "VJI04V71hF4m",
        "outputId": "f8f7306e-cff1-446a-97fb-562bc8b3b8d1"
      },
      "outputs": [
        {
          "name": "stdout",
          "output_type": "stream",
          "text": [
            "Downloading Model from https://www.modelscope.cn to directory: /root/.cache/modelscope/hub/models/Qwen/Qwen2.5-VL-7B-Instruct\n"
          ]
        },
        {
          "name": "stderr",
          "output_type": "stream",
          "text": [
            "2025-06-24 06:26:46,781 - modelscope - INFO - Target directory already exists, skipping creation.\n"
          ]
        },
        {
          "data": {
            "application/vnd.jupyter.widget-view+json": {
              "model_id": "c79c8be28ef44f63bad951ee6900cda3",
              "version_major": 2,
              "version_minor": 0
            },
            "text/plain": [
              "Loading checkpoint shards:   0%|          | 0/5 [00:00<?, ?it/s]"
            ]
          },
          "metadata": {},
          "output_type": "display_data"
        },
        {
          "name": "stdout",
          "output_type": "stream",
          "text": [
            "Downloading Model from https://www.modelscope.cn to directory: /root/.cache/modelscope/hub/models/Qwen/Qwen2.5-VL-7B-Instruct\n"
          ]
        },
        {
          "name": "stderr",
          "output_type": "stream",
          "text": [
            "2025-06-24 06:28:01,253 - modelscope - INFO - Target directory already exists, skipping creation.\n",
            "Using a slow image processor as `use_fast` is unset and a slow processor was saved with this model. `use_fast=True` will be the default behavior in v4.52, even if the model was saved with a slow processor. This will result in minor differences in outputs. You'll still be able to use a slow processor with `use_fast=False`.\n",
            "You have video processor config saved in `preprocessor.json` file which is deprecated. Video processor configs should be saved in their own `video_preprocessor.json` file. You can rename the file or load and save the processor back which renames it automatically. Loading from `preprocessor.json` will be removed in v5.0.\n"
          ]
        }
      ],
      "source": [
        "import os\n",
        "import torch\n",
        "import time\n",
        "import json\n",
        "import shutil\n",
        "import gc\n",
        "from PIL import Image\n",
        "from tqdm import tqdm\n",
        "#from transformers import Qwen2_5_VLForConditionalGeneration, AutoProcessor\n",
        "from modelscope import Qwen2_5_VLForConditionalGeneration, AutoTokenizer, AutoProcessor\n",
        "#from qwen_vl_utils import process_vision_info\n",
        "\n",
        "# Load model\n",
        "model = Qwen2_5_VLForConditionalGeneration.from_pretrained(\n",
        "    \"Qwen/Qwen2.5-VL-7B-Instruct\", torch_dtype=\"auto\", device_map=\"auto\"\n",
        ")\n",
        "processor = AutoProcessor.from_pretrained(\"Qwen/Qwen2.5-VL-7B-Instruct\")"
      ]
    },
    {
      "cell_type": "code",
      "execution_count": null,
      "metadata": {
        "colab": {
          "base_uri": "https://localhost:8080/"
        },
        "id": "7UsQeArlpnh7",
        "outputId": "415dfd21-18f0-404c-fc53-f3f3e0cddaa2"
      },
      "outputs": [
        {
          "name": "stderr",
          "output_type": "stream",
          "text": [
            "Generating captions:   0%|          | 0/148 [00:00<?, ?it/s]The following generation flags are not valid and may be ignored: ['temperature']. Set `TRANSFORMERS_VERBOSITY=info` for more details.\n",
            "Generating captions:   1%|          | 1/148 [00:29<1:13:28, 29.99s/it]"
          ]
        },
        {
          "name": "stdout",
          "output_type": "stream",
          "text": [
            "🖼️ 917ea8bbdc1edee8 → The image shows a person dressed in a white tennis outfit, including a tank top and skirt, holding a tennis racket. The background is lush green foliage, suggesting an outdoor setting, possibly a tennis court or park. The attire and equipment indicate the individual is engaged in or preparing for a game of tennis. | ⏱️ 27.57s\n"
          ]
        },
        {
          "name": "stderr",
          "output_type": "stream",
          "text": [
            "The following generation flags are not valid and may be ignored: ['temperature']. Set `TRANSFORMERS_VERBOSITY=info` for more details.\n",
            "Generating captions:   1%|▏         | 2/148 [00:40<44:55, 18.46s/it]  "
          ]
        },
        {
          "name": "stdout",
          "output_type": "stream",
          "text": [
            "🖼️ 389337d0c8a5d938 → A tennis player in a blue shirt with red and white trim is captured mid-swing, hitting a tennis ball. The shirt features a lion emblem and the Czech flag, suggesting he represents the Czech Republic. The background shows a blurred crowd, indicating a professional match setting. | ⏱️ 9.61s\n"
          ]
        },
        {
          "name": "stderr",
          "output_type": "stream",
          "text": [
            "The following generation flags are not valid and may be ignored: ['temperature']. Set `TRANSFORMERS_VERBOSITY=info` for more details.\n",
            "Generating captions:   2%|▏         | 3/148 [01:00<46:45, 19.35s/it]"
          ]
        },
        {
          "name": "stdout",
          "output_type": "stream",
          "text": [
            "🖼️ 1a7fbc2aa4fe0849 → The image shows four athletes standing on a podium, likely after winning medals in a track and field event. They are wearing athletic attire, including tank tops and shorts, and appear to be at an indoor stadium with spotlights illuminating them from above. The central figure is wearing a gold medal around his neck, indicating he is the winner of the competition. The other three athletes are also adorned with medals, suggesting they placed second and third. The setting suggests a formal award ceremony, possibly part of an Olympic or international sporting event. | ⏱️ 19.22s\n"
          ]
        },
        {
          "name": "stderr",
          "output_type": "stream",
          "text": [
            "The following generation flags are not valid and may be ignored: ['temperature']. Set `TRANSFORMERS_VERBOSITY=info` for more details.\n",
            "Generating captions:   3%|▎         | 4/148 [01:07<34:07, 14.22s/it]The following generation flags are not valid and may be ignored: ['temperature']. Set `TRANSFORMERS_VERBOSITY=info` for more details.\n"
          ]
        },
        {
          "name": "stdout",
          "output_type": "stream",
          "text": [
            "🖼️ f3f6aadb005858e8 → The image shows an industrial facility, likely a chemical or petrochemical plant, with large storage tanks and complex piping systems. In the foreground, there is a chain-link fence with a sign that reads \"ON EQUIPMENT.\" Behind the fence, several vehicles are parked, suggesting a work area or employee parking lot. Trees with pink flowers frame the scene, adding a touch of nature to the industrial setting. The overall atmosphere appears overcast. | ⏱️ 6.12s\n"
          ]
        },
        {
          "name": "stderr",
          "output_type": "stream",
          "text": [
            "\rGenerating captions:   3%|▎         | 5/148 [01:10<24:57, 10.47s/it]"
          ]
        },
        {
          "name": "stdout",
          "output_type": "stream",
          "text": [
            "🖼️ e291fc97546e933e → The image shows an elderly man seated in a light-colored armchair, wearing glasses, a light blue sweater over a striped collared shirt. The background is a green wall with a framed picture partially visible on the right side. The setting appears to be indoors, possibly in a home or care facility. | ⏱️ 3.66s\n"
          ]
        },
        {
          "name": "stderr",
          "output_type": "stream",
          "text": [
            "The following generation flags are not valid and may be ignored: ['temperature']. Set `TRANSFORMERS_VERBOSITY=info` for more details.\n",
            "Generating captions:   4%|▍         | 6/148 [01:17<21:23,  9.04s/it]"
          ]
        },
        {
          "name": "stdout",
          "output_type": "stream",
          "text": [
            "🖼️ 773e1f1b00fd9e1c → A tennis player in a white outfit holds up a large, ornate silver trophy, likely after winning a match at Wimbledon. The background shows a blurred crowd, indicating a stadium setting. | ⏱️ 5.22s\n"
          ]
        },
        {
          "name": "stderr",
          "output_type": "stream",
          "text": [
            "The following generation flags are not valid and may be ignored: ['temperature']. Set `TRANSFORMERS_VERBOSITY=info` for more details.\n",
            "Generating captions:   5%|▍         | 7/148 [01:28<22:59,  9.79s/it]"
          ]
        },
        {
          "name": "stdout",
          "output_type": "stream",
          "text": [
            "🖼️ a93815a088f56338 → The image shows a man in casual attire, including a blue sweater over a plaid shirt and jeans, walking through what appears to be an indoor event or gathering. He is flanked by several individuals dressed in formal black suits, suggesting a professional or formal setting. The background includes a sign that partially reads \"CHAMPIONSHIPS,\" indicating the event might be related to sports or awards. The lighting is dim, with some golden accents visible on the left side of the frame. | ⏱️ 10.63s\n"
          ]
        },
        {
          "name": "stderr",
          "output_type": "stream",
          "text": [
            "The following generation flags are not valid and may be ignored: ['temperature']. Set `TRANSFORMERS_VERBOSITY=info` for more details.\n",
            "Generating captions:   5%|▌         | 8/148 [01:56<36:25, 15.61s/it]"
          ]
        },
        {
          "name": "stdout",
          "output_type": "stream",
          "text": [
            "🖼️ c2588b8576a3819d → The image shows a person standing on a podium, holding a bouquet of flowers in one hand and a Union Jack flag draped over their shoulders with both hands. They are wearing a white jacket with blue accents and a gold medal around their neck, indicating they have won an award or competition. The setting appears to be an indoor event, possibly an awards ceremony. | ⏱️ 25.87s\n"
          ]
        },
        {
          "name": "stderr",
          "output_type": "stream",
          "text": [
            "The following generation flags are not valid and may be ignored: ['temperature']. Set `TRANSFORMERS_VERBOSITY=info` for more details.\n",
            "Generating captions:   6%|▌         | 9/148 [02:06<31:45, 13.71s/it]"
          ]
        },
        {
          "name": "stdout",
          "output_type": "stream",
          "text": [
            "🖼️ 3d7837eaff31a2a1 → The image shows a person smiling outdoors, wearing a yellow headband with red text, large circular earrings with a logo, and a red scarf with white crosses over a pink top. The background is blurred greenery, suggesting an outdoor setting. | ⏱️ 8.79s\n"
          ]
        },
        {
          "name": "stderr",
          "output_type": "stream",
          "text": [
            "The following generation flags are not valid and may be ignored: ['temperature']. Set `TRANSFORMERS_VERBOSITY=info` for more details.\n",
            "Generating captions:   7%|▋         | 10/148 [02:35<42:47, 18.60s/it]"
          ]
        },
        {
          "name": "stdout",
          "output_type": "stream",
          "text": [
            "🖼️ fb0c6c64cd75aaca → The image shows a large crowd of people seated in bleachers at what appears to be a sports or public event. The audience is diverse, with individuals of various ages, some wearing casual clothing and others in team colors. Many are sitting on blue seats, while others stand near the railings. Some people are holding cameras, suggesting they might be spectators or journalists. The setting seems informal, likely during a daytime event. | ⏱️ 27.42s\n",
            "💾 Intermediate save → /content/drive/MyDrive/[EVENTA 2025] Event-Enriched Image Captioning/vlm/148_c.json\n"
          ]
        },
        {
          "name": "stderr",
          "output_type": "stream",
          "text": [
            "The following generation flags are not valid and may be ignored: ['temperature']. Set `TRANSFORMERS_VERBOSITY=info` for more details.\n",
            "Generating captions:   7%|▋         | 11/148 [03:02<48:06, 21.07s/it]"
          ]
        },
        {
          "name": "stdout",
          "output_type": "stream",
          "text": [
            "🖼️ 07831dcbcf15478a → The image shows a tennis player wearing a black shirt with logos, including \"UNIQLO\" and \"PEUGEOT,\" on it. The background is dark with blue lighting, suggesting an indoor sports arena setting. The player appears to be in motion or reacting during a match. | ⏱️ 24.58s\n"
          ]
        },
        {
          "name": "stderr",
          "output_type": "stream",
          "text": [
            "The following generation flags are not valid and may be ignored: ['temperature']. Set `TRANSFORMERS_VERBOSITY=info` for more details.\n",
            "Generating captions:   8%|▊         | 12/148 [03:10<38:36, 17.03s/it]The following generation flags are not valid and may be ignored: ['temperature']. Set `TRANSFORMERS_VERBOSITY=info` for more details.\n"
          ]
        },
        {
          "name": "stdout",
          "output_type": "stream",
          "text": [
            "🖼️ 5b4a133708738908 → Two athletes, wearing navy blue jackets with \"United States Olympic Team\" patches, stand on a podium holding gold medals. The background features the Rio 2016 Olympics logo, indicating they are at an Olympic event in Rio de Janeiro, Brazil. The athlete on the left is a woman with her hair tied back, while the one on the right is a man with short hair. Both appear happy and proud, showcasing their achievements. | ⏱️ 6.81s\n"
          ]
        },
        {
          "name": "stderr",
          "output_type": "stream",
          "text": [
            "\rGenerating captions:   9%|▉         | 13/148 [03:12<27:57, 12.43s/it]The following generation flags are not valid and may be ignored: ['temperature']. Set `TRANSFORMERS_VERBOSITY=info` for more details.\n"
          ]
        },
        {
          "name": "stdout",
          "output_type": "stream",
          "text": [
            "🖼️ a7324d92eb6a07a6 → A small stone cottage sits amidst a vast expanse of blooming purple heather under a partly cloudy sky, evoking a serene and remote rural landscape. | ⏱️ 1.81s\n"
          ]
        },
        {
          "name": "stderr",
          "output_type": "stream",
          "text": [
            "\rGenerating captions:   9%|▉         | 14/148 [03:16<22:12,  9.94s/it]"
          ]
        },
        {
          "name": "stdout",
          "output_type": "stream",
          "text": [
            "🖼️ 9419688797d95f36 → The image shows a person wearing a blue sports jersey with \"ASV '82\" and \"DDR\" (East Germany) written on it, indicating participation in an athletic event or competition. The individual is adjusting their jacket, suggesting they might be preparing for or taking a break during the event. The setting appears to be outdoors at night, as the background is dark. | ⏱️ 4.17s\n"
          ]
        },
        {
          "name": "stderr",
          "output_type": "stream",
          "text": [
            "The following generation flags are not valid and may be ignored: ['temperature']. Set `TRANSFORMERS_VERBOSITY=info` for more details.\n",
            "Generating captions:  10%|█         | 15/148 [03:43<33:27, 15.09s/it]"
          ]
        },
        {
          "name": "stdout",
          "output_type": "stream",
          "text": [
            "🖼️ 92fda74bee0bc4d6 → A tennis player in a white and yellow Adidas shirt is kneeling on a purple court, holding his head in frustration or exhaustion. He appears to be in a match setting, as there are spectators and officials in the background. The court has advertisements visible, including \"Sony\" and \"Bacardi.\" | ⏱️ 25.38s\n"
          ]
        },
        {
          "name": "stderr",
          "output_type": "stream",
          "text": [
            "The following generation flags are not valid and may be ignored: ['temperature']. Set `TRANSFORMERS_VERBOSITY=info` for more details.\n",
            "Generating captions:  11%|█         | 16/148 [03:57<32:26, 14.74s/it]"
          ]
        },
        {
          "name": "stdout",
          "output_type": "stream",
          "text": [
            "🖼️ d1270f3e1e586bc4 → The image shows a tennis player in a black outfit celebrating on the court. He is holding a tennis racket in one hand and has his fist raised in the other, suggesting he has just won a point or match. The background is filled with spectators, indicating this is a professional tennis event. | ⏱️ 12.50s\n"
          ]
        },
        {
          "name": "stderr",
          "output_type": "stream",
          "text": [
            "The following generation flags are not valid and may be ignored: ['temperature']. Set `TRANSFORMERS_VERBOSITY=info` for more details.\n",
            "Generating captions:  11%|█▏        | 17/148 [04:04<27:14, 12.48s/it]"
          ]
        },
        {
          "name": "stdout",
          "output_type": "stream",
          "text": [
            "🖼️ c91189dc5e04e394 → Two tennis players are standing close together, facing each other, on a dark court. One player is wearing a teal and white shirt with white shorts, while the other is in a light blue sleeveless shirt and pink shorts. Both are holding tennis rackets, suggesting they were competing or interacting during a match. The setting appears to be an indoor or evening outdoor tennis event. | ⏱️ 6.27s\n"
          ]
        },
        {
          "name": "stderr",
          "output_type": "stream",
          "text": [
            "The following generation flags are not valid and may be ignored: ['temperature']. Set `TRANSFORMERS_VERBOSITY=info` for more details.\n",
            "Generating captions:  12%|█▏        | 18/148 [04:12<24:04, 11.11s/it]"
          ]
        },
        {
          "name": "stdout",
          "output_type": "stream",
          "text": [
            "🖼️ 087f2f47da4544fd → A tennis player is captured mid-air, diving to hit a ball with his racket on a blue court. He wears a dark outfit with yellow accents and is wearing wristbands. The dynamic pose suggests an intense moment during a match. | ⏱️ 7.32s\n"
          ]
        },
        {
          "name": "stderr",
          "output_type": "stream",
          "text": [
            "The following generation flags are not valid and may be ignored: ['temperature']. Set `TRANSFORMERS_VERBOSITY=info` for more details.\n",
            "Generating captions:  13%|█▎        | 19/148 [04:28<26:52, 12.50s/it]"
          ]
        },
        {
          "name": "stdout",
          "output_type": "stream",
          "text": [
            "🖼️ 33b1c9745690d548 → The image shows a soccer player in a blue jersey celebrating, with his fists raised in triumph. The jersey features the number 9 and an Italian flag emblem, indicating he is part of the Italian national team. The background is filled with spectators, suggesting the scene takes place during a match. | ⏱️ 14.08s\n"
          ]
        },
        {
          "name": "stderr",
          "output_type": "stream",
          "text": [
            "The following generation flags are not valid and may be ignored: ['temperature']. Set `TRANSFORMERS_VERBOSITY=info` for more details.\n",
            "Generating captions:  14%|█▎        | 20/148 [04:55<36:04, 16.91s/it]"
          ]
        },
        {
          "name": "stdout",
          "output_type": "stream",
          "text": [
            "🖼️ 1fedf0cdf4d0f7cc → The image shows a tennis player in action, wearing a black Under Armour shirt and cap, holding a tennis racket. The player appears to be shouting or expressing strong emotion, possibly during a match. The background is dark with some blue lighting, suggesting an indoor or evening setting. | ⏱️ 25.02s\n",
            "💾 Intermediate save → /content/drive/MyDrive/[EVENTA 2025] Event-Enriched Image Captioning/vlm/148_c.json\n"
          ]
        },
        {
          "name": "stderr",
          "output_type": "stream",
          "text": [
            "The following generation flags are not valid and may be ignored: ['temperature']. Set `TRANSFORMERS_VERBOSITY=info` for more details.\n",
            "Generating captions:  14%|█▍        | 21/148 [05:03<30:06, 14.22s/it]"
          ]
        },
        {
          "name": "stdout",
          "output_type": "stream",
          "text": [
            "🖼️ 773e6a440dc6d06a → Two women are standing on a tennis court, holding a large silver trophy and a bouquet of flowers. They appear to be celebrating a victory, possibly at Wimbledon, given their attire and the setting. The background shows spectators in the stands and part of the court net. | ⏱️ 6.94s\n"
          ]
        },
        {
          "name": "stderr",
          "output_type": "stream",
          "text": [
            "The following generation flags are not valid and may be ignored: ['temperature']. Set `TRANSFORMERS_VERBOSITY=info` for more details.\n",
            "Generating captions:  15%|█▍        | 22/148 [05:26<35:18, 16.81s/it]"
          ]
        },
        {
          "name": "stdout",
          "output_type": "stream",
          "text": [
            "🖼️ 5c9c24e5556ef9c8 → The image shows a tennis player celebrating on the court, wearing an orange and black patterned outfit with a matching visor. She is holding a tennis racket in her left hand and has a joyful expression, with one fist raised in a gesture of triumph. The background is blurred, suggesting a stadium setting with spectators. | ⏱️ 21.06s\n"
          ]
        },
        {
          "name": "stderr",
          "output_type": "stream",
          "text": [
            "The following generation flags are not valid and may be ignored: ['temperature']. Set `TRANSFORMERS_VERBOSITY=info` for more details.\n",
            "Generating captions:  16%|█▌        | 23/148 [05:32<28:34, 13.72s/it]"
          ]
        },
        {
          "name": "stdout",
          "output_type": "stream",
          "text": [
            "🖼️ c3bd0676cc2e271a → The image shows a tennis player on a court, holding a tennis racket in his right hand above his head. He is wearing a black sports outfit with \"UNIQLO\" logos and wristbands. The background is a clear blue sky, suggesting an outdoor setting. The player appears to be celebrating or acknowledging the crowd. | ⏱️ 6.08s\n"
          ]
        },
        {
          "name": "stderr",
          "output_type": "stream",
          "text": [
            "The following generation flags are not valid and may be ignored: ['temperature']. Set `TRANSFORMERS_VERBOSITY=info` for more details.\n",
            "Generating captions:  16%|█▌        | 24/148 [05:56<34:23, 16.64s/it]"
          ]
        },
        {
          "name": "stdout",
          "output_type": "stream",
          "text": [
            "🖼️ 9b41de0d25848269 → The image shows a person holding a golden trophy, likely after winning a competition or tournament. The individual is wearing a white long-sleeved shirt and has shoulder-length hair. The background features a red banner with a white cross, resembling the flag of Switzerland. The setting suggests a celebratory moment, possibly related to sports or an event in Switzerland. | ⏱️ 21.66s\n"
          ]
        },
        {
          "name": "stderr",
          "output_type": "stream",
          "text": [
            "The following generation flags are not valid and may be ignored: ['temperature']. Set `TRANSFORMERS_VERBOSITY=info` for more details.\n",
            "Generating captions:  17%|█▋        | 25/148 [06:12<33:43, 16.45s/it]"
          ]
        },
        {
          "name": "stdout",
          "output_type": "stream",
          "text": [
            "🖼️ 71d9f67d7f28d5bb → A tennis player in white attire is seen walking off the court, carrying a blue and yellow Yonex racket bag. A person in a dark uniform appears to be assisting or guiding him. The setting seems to be a professional tennis match, likely at Wimbledon given the green attire of some individuals and the Wimbledon logo on the bag. Spectators are visible in the background, some clapping. | ⏱️ 15.11s\n"
          ]
        },
        {
          "name": "stderr",
          "output_type": "stream",
          "text": [
            "The following generation flags are not valid and may be ignored: ['temperature']. Set `TRANSFORMERS_VERBOSITY=info` for more details.\n",
            "Generating captions:  18%|█▊        | 26/148 [06:40<40:40, 20.01s/it]"
          ]
        },
        {
          "name": "stdout",
          "output_type": "stream",
          "text": [
            "🖼️ 6ceab09459131a5a → Two tennis players are shaking hands at the net, likely after a match or during a sports event. The player on the left is wearing a black outfit with an orange patterned visor, while the player on the right is in a peach-colored outfit with a matching headband. The background shows a blurred crowd, indicating the setting is a professional tennis tournament. | ⏱️ 26.31s\n"
          ]
        },
        {
          "name": "stderr",
          "output_type": "stream",
          "text": [
            "The following generation flags are not valid and may be ignored: ['temperature']. Set `TRANSFORMERS_VERBOSITY=info` for more details.\n",
            "Generating captions:  18%|█▊        | 27/148 [07:06<44:16, 21.95s/it]"
          ]
        },
        {
          "name": "stdout",
          "output_type": "stream",
          "text": [
            "🖼️ 15dcf61d5cfa0aab → The image depicts a large indoor tennis stadium filled with spectators during an event in Melbourne. The court is illuminated with blue lighting, and Australian flags are prominently displayed along the sidelines. Two individuals stand on the court, one holding a trophy, suggesting a post-match ceremony or celebration. The crowd appears engaged, with some people taking photos or videos. The atmosphere is lively and celebratory. | ⏱️ 24.77s\n"
          ]
        },
        {
          "name": "stderr",
          "output_type": "stream",
          "text": [
            "The following generation flags are not valid and may be ignored: ['temperature']. Set `TRANSFORMERS_VERBOSITY=info` for more details.\n",
            "Generating captions:  19%|█▉        | 28/148 [07:27<43:11, 21.60s/it]"
          ]
        },
        {
          "name": "stdout",
          "output_type": "stream",
          "text": [
            "🖼️ 100a63bb472f4325 → The image shows two tennis players standing side by side, each holding a trophy. The player on the left is wearing a purple shirt and holds a smaller trophy, while the player on the right is dressed in black and holds a larger trophy with blue ribbons that read \"BARCLAYS.\" Both are smiling and appear to be at a formal event, possibly an awards ceremony after a match. The background suggests a stadium setting with blurred spectators. | ⏱️ 19.31s\n"
          ]
        },
        {
          "name": "stderr",
          "output_type": "stream",
          "text": [
            "The following generation flags are not valid and may be ignored: ['temperature']. Set `TRANSFORMERS_VERBOSITY=info` for more details.\n",
            "Generating captions:  20%|█▉        | 29/148 [07:32<33:10, 16.72s/it]"
          ]
        },
        {
          "name": "stdout",
          "output_type": "stream",
          "text": [
            "🖼️ b164ec43d5d2f2c7 → The image shows a pre-match scene at a football stadium where players from Burnley Football Club and Manchester City are greeted by children and officials. The backdrop features the Premier League logo, the Rainbow Laces campaign logos, and the EA Sports branding. The setting suggests a ceremonial moment before a match, emphasizing inclusivity and support for LGBTQ+ causes. | ⏱️ 4.92s\n"
          ]
        },
        {
          "name": "stderr",
          "output_type": "stream",
          "text": [
            "The following generation flags are not valid and may be ignored: ['temperature']. Set `TRANSFORMERS_VERBOSITY=info` for more details.\n",
            "Generating captions:  20%|██        | 30/148 [07:46<31:11, 15.86s/it]"
          ]
        },
        {
          "name": "stdout",
          "output_type": "stream",
          "text": [
            "🖼️ 2b238c1f23b42adc → The image shows a tennis player in action, wearing a white shirt and a wristband on their left arm. The player is captured mid-swing, with their right hand extended forward, likely following through after hitting a ball. The background includes a blurred figure, possibly an opponent or a coach, and part of a blue court surface is visible. The focus is on the player's intense expression and movement, suggesting a competitive match. | ⏱️ 12.74s\n",
            "💾 Intermediate save → /content/drive/MyDrive/[EVENTA 2025] Event-Enriched Image Captioning/vlm/148_c.json\n"
          ]
        },
        {
          "name": "stderr",
          "output_type": "stream",
          "text": [
            "The following generation flags are not valid and may be ignored: ['temperature']. Set `TRANSFORMERS_VERBOSITY=info` for more details.\n",
            "Generating captions:  21%|██        | 31/148 [07:59<29:03, 14.90s/it]"
          ]
        },
        {
          "name": "stdout",
          "output_type": "stream",
          "text": [
            "🖼️ 14fbeb10250af554 → A tennis player is captured mid-swing, hitting a ball with a racket. She wears a white visor and a light blue shirt, focused on the action. The background is dark, emphasizing the player and the bright green tennis ball in motion. | ⏱️ 11.67s\n"
          ]
        },
        {
          "name": "stderr",
          "output_type": "stream",
          "text": [
            "The following generation flags are not valid and may be ignored: ['temperature']. Set `TRANSFORMERS_VERBOSITY=info` for more details.\n",
            "Generating captions:  22%|██▏       | 32/148 [08:10<26:19, 13.62s/it]The following generation flags are not valid and may be ignored: ['temperature']. Set `TRANSFORMERS_VERBOSITY=info` for more details.\n"
          ]
        },
        {
          "name": "stdout",
          "output_type": "stream",
          "text": [
            "🖼️ 37c83aceb1120983 → The image shows a woman speaking at a press conference, wearing a blue suit and pearl necklace. She is positioned in front of a backdrop featuring the seal of the Department of Justice, indicating that she is likely a government official or representative from the DOJ. The setting suggests an official announcement or briefing. | ⏱️ 9.68s\n"
          ]
        },
        {
          "name": "stderr",
          "output_type": "stream",
          "text": [
            "\rGenerating captions:  22%|██▏       | 33/148 [08:12<19:44, 10.30s/it]"
          ]
        },
        {
          "name": "stdout",
          "output_type": "stream",
          "text": [
            "🖼️ 608a0dd4f5b75e53 → The image is a black-and-white portrait of a man wearing glasses, a suit, and a striped tie. He appears to be in a thoughtful or contemplative pose, resting his chin on his hand. The background is dark, which draws attention to the subject. The style suggests it could be from a formal interview or a professional setting. | ⏱️ 2.55s\n"
          ]
        },
        {
          "name": "stderr",
          "output_type": "stream",
          "text": [
            "The following generation flags are not valid and may be ignored: ['temperature']. Set `TRANSFORMERS_VERBOSITY=info` for more details.\n",
            "Generating captions:  23%|██▎       | 34/148 [08:16<16:05,  8.47s/it]"
          ]
        },
        {
          "name": "stdout",
          "output_type": "stream",
          "text": [
            "🖼️ 04736f28f676bcf0 → Two tennis players in white attire are shaking hands at the net, likely after a match or game, with spectators visible in the background. | ⏱️ 3.72s\n"
          ]
        },
        {
          "name": "stderr",
          "output_type": "stream",
          "text": [
            "The following generation flags are not valid and may be ignored: ['temperature']. Set `TRANSFORMERS_VERBOSITY=info` for more details.\n",
            "Generating captions:  24%|██▎       | 35/148 [08:24<15:38,  8.31s/it]"
          ]
        },
        {
          "name": "stdout",
          "output_type": "stream",
          "text": [
            "🖼️ aa0a8949bed81e6d → A tennis player in a pink Nike outfit is celebrating on the court, holding a tennis racket in one hand and raising her fist in the other. The background shows spectators in a stadium setting. | ⏱️ 7.14s\n"
          ]
        },
        {
          "name": "stderr",
          "output_type": "stream",
          "text": [
            "The following generation flags are not valid and may be ignored: ['temperature']. Set `TRANSFORMERS_VERBOSITY=info` for more details.\n",
            "Generating captions:  24%|██▍       | 36/148 [08:32<15:03,  8.06s/it]"
          ]
        },
        {
          "name": "stdout",
          "output_type": "stream",
          "text": [
            "🖼️ 7200073630a2d50f → A tennis player in a white outfit holds a large silver trophy with a blue ribbon, celebrating a victory. The trophy features a design of crossed rackets on top and is adorned with a green base. The background shows a blurred crowd, suggesting the setting is a tennis tournament. | ⏱️ 6.83s\n"
          ]
        },
        {
          "name": "stderr",
          "output_type": "stream",
          "text": [
            "The following generation flags are not valid and may be ignored: ['temperature']. Set `TRANSFORMERS_VERBOSITY=info` for more details.\n",
            "Generating captions:  25%|██▌       | 37/148 [08:41<15:32,  8.40s/it]"
          ]
        },
        {
          "name": "stdout",
          "output_type": "stream",
          "text": [
            "🖼️ 51674a295bbdd4e7 → The image shows a man and a woman standing together outdoors, smiling. The man is wearing a dark blue suit with a white shirt and tie, while the woman is dressed in a light-colored outfit. They appear to be at a formal or public event, as suggested by their attire and the brick wall and railing in the background. | ⏱️ 8.34s\n"
          ]
        },
        {
          "name": "stderr",
          "output_type": "stream",
          "text": [
            "The following generation flags are not valid and may be ignored: ['temperature']. Set `TRANSFORMERS_VERBOSITY=info` for more details.\n",
            "Generating captions:  26%|██▌       | 38/148 [08:49<15:23,  8.40s/it]"
          ]
        },
        {
          "name": "stdout",
          "output_type": "stream",
          "text": [
            "🖼️ 342263502dfa30fb → A tennis player, wearing a white visor and a white Nike dress, is captured mid-match on a court with a Wimbledon logo in the background. She holds her racket in one hand and raises the other in a gesture that suggests she's either celebrating or reacting to a play. The setting appears to be during a professional tennis tournament. | ⏱️ 7.68s\n"
          ]
        },
        {
          "name": "stderr",
          "output_type": "stream",
          "text": [
            "The following generation flags are not valid and may be ignored: ['temperature']. Set `TRANSFORMERS_VERBOSITY=info` for more details.\n",
            "Generating captions:  26%|██▋       | 39/148 [09:01<16:51,  9.28s/it]"
          ]
        },
        {
          "name": "stdout",
          "output_type": "stream",
          "text": [
            "🖼️ 54c723b2d8a7e5cb → The image shows a tennis player in a celebratory pose, raising both arms in triumph. The player is wearing a dark blue Adidas shirt and wristbands, suggesting they are on a professional court during a match or event. The background is dark, indicating an indoor setting, possibly a stadium with focused lighting on the player. | ⏱️ 10.38s\n"
          ]
        },
        {
          "name": "stderr",
          "output_type": "stream",
          "text": [
            "The following generation flags are not valid and may be ignored: ['temperature']. Set `TRANSFORMERS_VERBOSITY=info` for more details.\n",
            "Generating captions:  27%|██▋       | 40/148 [09:08<15:52,  8.82s/it]"
          ]
        },
        {
          "name": "stdout",
          "output_type": "stream",
          "text": [
            "🖼️ 003dfa0175ff6c20 → A tennis player is serving on a blue hard court during a match at the US Open, as indicated by the signage around the stadium. The stands are partially filled with spectators, and the scoreboard shows the game score. The sky is clear and sunny, suggesting a daytime match. | ⏱️ 7.02s\n",
            "💾 Intermediate save → /content/drive/MyDrive/[EVENTA 2025] Event-Enriched Image Captioning/vlm/148_c.json\n"
          ]
        },
        {
          "name": "stderr",
          "output_type": "stream",
          "text": [
            "The following generation flags are not valid and may be ignored: ['temperature']. Set `TRANSFORMERS_VERBOSITY=info` for more details.\n",
            "Generating captions:  28%|██▊       | 41/148 [09:28<21:44, 12.19s/it]"
          ]
        },
        {
          "name": "stdout",
          "output_type": "stream",
          "text": [
            "🖼️ 5b421d5315abf598 → The image shows a tennis player in action on a green court, wearing a light blue shirt, white shorts, and white shoes with blue accents. The player is mid-swing, hitting a tennis ball with a racket, demonstrating agility and focus during gameplay. | ⏱️ 18.64s\n"
          ]
        },
        {
          "name": "stderr",
          "output_type": "stream",
          "text": [
            "The following generation flags are not valid and may be ignored: ['temperature']. Set `TRANSFORMERS_VERBOSITY=info` for more details.\n",
            "Generating captions:  28%|██▊       | 42/148 [09:33<17:40, 10.00s/it]"
          ]
        },
        {
          "name": "stdout",
          "output_type": "stream",
          "text": [
            "🖼️ afcc76668b6a1e6f → A group of tennis players, wearing white jackets with \"ITALIA\" on the back, are huddled together in celebration on a clay court. They appear to be celebrating a victory or a significant achievement, as they are embracing each other enthusiastically. The setting suggests a team event, possibly a Davis Cup match. | ⏱️ 4.53s\n"
          ]
        },
        {
          "name": "stderr",
          "output_type": "stream",
          "text": [
            "The following generation flags are not valid and may be ignored: ['temperature']. Set `TRANSFORMERS_VERBOSITY=info` for more details.\n",
            "Generating captions:  29%|██▉       | 43/148 [09:48<19:59, 11.42s/it]"
          ]
        },
        {
          "name": "stdout",
          "output_type": "stream",
          "text": [
            "🖼️ aa3599602b724efb → A woman and a young boy are sitting closely together on a couch in a living room. The woman, wearing a purple shirt, has her arm around the boy, who is dressed in a blue t-shirt and plaid shorts. They appear to be in a relaxed setting, possibly at home, as indicated by the television, framed photos on the wall, and curtains in the background. The woman's hand rests gently on the boy's knee, suggesting a moment of comfort or care. | ⏱️ 13.59s\n"
          ]
        },
        {
          "name": "stderr",
          "output_type": "stream",
          "text": [
            "The following generation flags are not valid and may be ignored: ['temperature']. Set `TRANSFORMERS_VERBOSITY=info` for more details.\n"
          ]
        },
        {
          "name": "stdout",
          "output_type": "stream",
          "text": [
            "❌ Skipped (Out of memory): /content/r100_image_1/9d08ada381e1d2f8.jpg\n"
          ]
        },
        {
          "name": "stderr",
          "output_type": "stream",
          "text": [
            "Generating captions:  30%|██▉       | 44/148 [09:50<15:02,  8.68s/it]The following generation flags are not valid and may be ignored: ['temperature']. Set `TRANSFORMERS_VERBOSITY=info` for more details.\n",
            "Generating captions:  30%|███       | 45/148 [09:52<11:25,  6.66s/it]"
          ]
        },
        {
          "name": "stdout",
          "output_type": "stream",
          "text": [
            "🖼️ b7af555c5a7b4fb0 → A group of people wearing matching red t-shirts stands together in front of the Sydney Harbour Bridge, with the city skyline visible in the background. They appear to be participating in a team event or charity walk, as suggested by their coordinated attire and cheerful expressions. | ⏱️ 1.93s\n"
          ]
        },
        {
          "name": "stderr",
          "output_type": "stream",
          "text": [
            "The following generation flags are not valid and may be ignored: ['temperature']. Set `TRANSFORMERS_VERBOSITY=info` for more details.\n",
            "Generating captions:  31%|███       | 46/148 [09:59<11:09,  6.56s/it]"
          ]
        },
        {
          "name": "stdout",
          "output_type": "stream",
          "text": [
            "🖼️ 1c1ad61f80b00f92 → The image depicts a desolate, war-torn scene with military vehicles and equipment in a field. A large radar dish is mounted on a rusted truck, and another vehicle emits smoke or fire in the background. Tire barriers are visible in the foreground, and bare trees surround the area, adding to the bleak atmosphere. The sky is overcast, enhancing the somber mood of the setting. | ⏱️ 5.82s\n"
          ]
        },
        {
          "name": "stderr",
          "output_type": "stream",
          "text": [
            "The following generation flags are not valid and may be ignored: ['temperature']. Set `TRANSFORMERS_VERBOSITY=info` for more details.\n",
            "Generating captions:  32%|███▏      | 47/148 [10:21<19:13, 11.42s/it]"
          ]
        },
        {
          "name": "stdout",
          "output_type": "stream",
          "text": [
            "🖼️ 302d1cc0ddf8babc → The image shows a tennis player in action, wearing a bright green shirt with black accents and a headband. The player is mid-swing, hitting a tennis ball with a racket, suggesting they are competing or practicing on a clay court. The background is blurred, indicating a focus on the player, with spectators visible in the distance. | ⏱️ 21.07s\n"
          ]
        },
        {
          "name": "stderr",
          "output_type": "stream",
          "text": [
            "The following generation flags are not valid and may be ignored: ['temperature']. Set `TRANSFORMERS_VERBOSITY=info` for more details.\n",
            "Generating captions:  32%|███▏      | 48/148 [10:40<22:34, 13.54s/it]"
          ]
        },
        {
          "name": "stdout",
          "output_type": "stream",
          "text": [
            "🖼️ 9c4654b0ff921844 → The image shows a tennis player in action, preparing to serve. The player is wearing a light blue shirt with a geometric pattern and is holding a tennis ball above their head with one hand, ready to toss it for the serve. The background is dark with blue lighting, emphasizing the player and the ball. | ⏱️ 17.22s\n"
          ]
        },
        {
          "name": "stderr",
          "output_type": "stream",
          "text": [
            "The following generation flags are not valid and may be ignored: ['temperature']. Set `TRANSFORMERS_VERBOSITY=info` for more details.\n",
            "Generating captions:  33%|███▎      | 49/148 [11:02<26:46, 16.23s/it]"
          ]
        },
        {
          "name": "stdout",
          "output_type": "stream",
          "text": [
            "🖼️ 8cf0cc2b5d79ea2f → A tennis player is captured mid-action on a clay court, lunging forward to hit a tennis ball with her racket. She is wearing a light pink long-sleeve shirt, orange visor, and matching shorts, along with white athletic shoes. Her body is extended, showcasing the dynamic movement of the sport. | ⏱️ 20.76s\n"
          ]
        },
        {
          "name": "stderr",
          "output_type": "stream",
          "text": [
            "The following generation flags are not valid and may be ignored: ['temperature']. Set `TRANSFORMERS_VERBOSITY=info` for more details.\n",
            "Generating captions:  34%|███▍      | 50/148 [11:13<23:35, 14.44s/it]"
          ]
        },
        {
          "name": "stdout",
          "output_type": "stream",
          "text": [
            "🖼️ 342d3b5621c3b3b8 → A tennis player in a blue shirt is captured mid-swing, holding a tennis racket above his head. The background shows spectators in a stadium setting, indicating a competitive match. | ⏱️ 9.31s\n"
          ]
        },
        {
          "name": "stderr",
          "output_type": "stream",
          "text": [
            "The following generation flags are not valid and may be ignored: ['temperature']. Set `TRANSFORMERS_VERBOSITY=info` for more details.\n",
            "Generating captions:  34%|███▍      | 51/148 [11:21<20:08, 12.46s/it]"
          ]
        },
        {
          "name": "stdout",
          "output_type": "stream",
          "text": [
            "🖼️ 45bdfc1fcf2b424b → The image shows a person standing in front of a Union Jack flag, wearing a white polo shirt with a logo on the left chest area. The individual appears to be outdoors, possibly at an event or competition, given the formal attire and the backdrop. | ⏱️ 7.09s\n",
            "💾 Intermediate save → /content/drive/MyDrive/[EVENTA 2025] Event-Enriched Image Captioning/vlm/148_c.json\n"
          ]
        },
        {
          "name": "stderr",
          "output_type": "stream",
          "text": [
            "The following generation flags are not valid and may be ignored: ['temperature']. Set `TRANSFORMERS_VERBOSITY=info` for more details.\n"
          ]
        },
        {
          "name": "stdout",
          "output_type": "stream",
          "text": [
            "❌ Skipped (Out of memory): /content/r100_image_1/d19f0e99334ed2d6.jpg\n"
          ]
        },
        {
          "name": "stderr",
          "output_type": "stream",
          "text": [
            "Generating captions:  35%|███▌      | 52/148 [11:22<14:52,  9.29s/it]The following generation flags are not valid and may be ignored: ['temperature']. Set `TRANSFORMERS_VERBOSITY=info` for more details.\n",
            "Generating captions:  36%|███▌      | 53/148 [11:25<11:28,  7.25s/it]"
          ]
        },
        {
          "name": "stdout",
          "output_type": "stream",
          "text": [
            "🖼️ 0141884bfc0813c3 → A tennis player is captured mid-air, executing a forehand shot on a green court. The player is wearing a pink top, black shorts, and white sneakers with black accents. A tennis ball is visible in the air near the racket, indicating an active play moment. | ⏱️ 2.38s\n"
          ]
        },
        {
          "name": "stderr",
          "output_type": "stream",
          "text": [
            "The following generation flags are not valid and may be ignored: ['temperature']. Set `TRANSFORMERS_VERBOSITY=info` for more details.\n",
            "Generating captions:  36%|███▋      | 54/148 [11:32<11:22,  7.26s/it]The following generation flags are not valid and may be ignored: ['temperature']. Set `TRANSFORMERS_VERBOSITY=info` for more details.\n"
          ]
        },
        {
          "name": "stdout",
          "output_type": "stream",
          "text": [
            "🖼️ cb94d9f988d368fe → A person in a wetsuit is walking on a snowy, rocky beach while carrying a surfboard. The scene suggests an unusual winter surfing activity despite the cold weather. | ⏱️ 6.54s\n"
          ]
        },
        {
          "name": "stderr",
          "output_type": "stream",
          "text": [
            "\rGenerating captions:  37%|███▋      | 55/148 [11:34<08:50,  5.70s/it]"
          ]
        },
        {
          "name": "stdout",
          "output_type": "stream",
          "text": [
            "🖼️ d0c3077652632b3a → A tennis player in a white outfit stands on a court, holding a microphone, likely addressing an audience or participating in a post-match ceremony. The background shows a crowd of spectators dressed in casual summer attire, suggesting the event is taking place outdoors during warm weather. | ⏱️ 2.05s\n"
          ]
        },
        {
          "name": "stderr",
          "output_type": "stream",
          "text": [
            "The following generation flags are not valid and may be ignored: ['temperature']. Set `TRANSFORMERS_VERBOSITY=info` for more details.\n",
            "Generating captions:  38%|███▊      | 56/148 [11:47<11:51,  7.73s/it]The following generation flags are not valid and may be ignored: ['temperature']. Set `TRANSFORMERS_VERBOSITY=info` for more details.\n"
          ]
        },
        {
          "name": "stdout",
          "output_type": "stream",
          "text": [
            "🖼️ cfd32845e2e36e5c → The image shows a tennis player in a pink dress celebrating on the court. She is wearing a neon green headband, wristbands, and a heart-shaped necklace. Her hair is styled in a high ponytail. The background includes a blue wall with some blurred spectators and signage, indicating a professional tennis match setting. | ⏱️ 11.39s\n"
          ]
        },
        {
          "name": "stderr",
          "output_type": "stream",
          "text": [
            "\rGenerating captions:  39%|███▊      | 57/148 [11:49<09:27,  6.24s/it]"
          ]
        },
        {
          "name": "stdout",
          "output_type": "stream",
          "text": [
            "🖼️ e5bfbf80fb84de34 → The image shows a silhouette of a person's profile, likely taken in low light or shadow, with a soft, warm glow on the left side, possibly from a light source behind them. The focus is on the outline of their face, emphasizing the contours of the cheek, nose, and jawline. The background is blurred and dark, drawing attention to the subject. | ⏱️ 2.75s\n"
          ]
        },
        {
          "name": "stderr",
          "output_type": "stream",
          "text": [
            "The following generation flags are not valid and may be ignored: ['temperature']. Set `TRANSFORMERS_VERBOSITY=info` for more details.\n",
            "Generating captions:  39%|███▉      | 58/148 [12:00<11:12,  7.47s/it]"
          ]
        },
        {
          "name": "stdout",
          "output_type": "stream",
          "text": [
            "🖼️ ab5a0119c31472db → The image shows a tennis player in a white outfit celebrating on a court, holding a tennis racket in one hand and a white cloth in the other. The background is filled with a cheering crowd, indicating a significant moment, likely after winning a match. The setting appears to be an outdoor event, possibly at Wimbledon given the attire and atmosphere. | ⏱️ 9.47s\n"
          ]
        },
        {
          "name": "stderr",
          "output_type": "stream",
          "text": [
            "The following generation flags are not valid and may be ignored: ['temperature']. Set `TRANSFORMERS_VERBOSITY=info` for more details.\n",
            "Generating captions:  40%|███▉      | 59/148 [12:13<13:29,  9.10s/it]"
          ]
        },
        {
          "name": "stdout",
          "output_type": "stream",
          "text": [
            "🖼️ 572a97790648a0c4 → The image shows a tennis player in action, wearing a white shirt, cap, and wristbands. He is holding a tennis racket and appears focused on the game, with one fist raised in a gesture that could indicate determination or celebration. The background suggests an indoor tennis court setting. | ⏱️ 11.86s\n"
          ]
        },
        {
          "name": "stderr",
          "output_type": "stream",
          "text": [
            "The following generation flags are not valid and may be ignored: ['temperature']. Set `TRANSFORMERS_VERBOSITY=info` for more details.\n",
            "Generating captions:  41%|████      | 60/148 [12:22<13:14,  9.03s/it]"
          ]
        },
        {
          "name": "stdout",
          "output_type": "stream",
          "text": [
            "🖼️ 23955533bed84ac4 → The image shows a tennis player wearing a black and yellow Adidas shirt, holding a red and blue tennis racket. The player appears to be in motion, possibly during a match or practice session, as they are looking down and gesturing with their free hand. The background is dark, suggesting an indoor setting, likely a professional tennis event. | ⏱️ 8.07s\n"
          ]
        },
        {
          "name": "stderr",
          "output_type": "stream",
          "text": [
            "The following generation flags are not valid and may be ignored: ['temperature']. Set `TRANSFORMERS_VERBOSITY=info` for more details.\n",
            "Generating captions:  41%|████      | 61/148 [12:27<11:30,  7.94s/it]"
          ]
        },
        {
          "name": "stdout",
          "output_type": "stream",
          "text": [
            "🖼️ 8f5015351c7fe02d → A tennis player celebrates on a court, raising his arms in victory. He is wearing a white shirt with red accents and a wristband on one arm. The background shows spectators watching the match. | ⏱️ 4.82s\n"
          ]
        },
        {
          "name": "stderr",
          "output_type": "stream",
          "text": [
            "The following generation flags are not valid and may be ignored: ['temperature']. Set `TRANSFORMERS_VERBOSITY=info` for more details.\n",
            "Generating captions:  42%|████▏     | 62/148 [12:49<17:32, 12.24s/it]"
          ]
        },
        {
          "name": "stdout",
          "output_type": "stream",
          "text": [
            "🖼️ 27ca6e7c619a84ad → A woman in a shimmering, long-sleeved dress walks across a stage under bright spotlights. The background is dark, with a crowd of people visible as silhouettes, illuminated by blue and white lights. The setting suggests a performance or event. | ⏱️ 20.56s\n",
            "💾 Intermediate save → /content/drive/MyDrive/[EVENTA 2025] Event-Enriched Image Captioning/vlm/148_c.json\n"
          ]
        },
        {
          "name": "stderr",
          "output_type": "stream",
          "text": [
            "The following generation flags are not valid and may be ignored: ['temperature']. Set `TRANSFORMERS_VERBOSITY=info` for more details.\n",
            "Generating captions:  43%|████▎     | 63/148 [13:08<20:15, 14.30s/it]"
          ]
        },
        {
          "name": "stdout",
          "output_type": "stream",
          "text": [
            "🖼️ 6029c81d74bb5aa3 → The image shows a tennis player in action, preparing to serve. She is wearing a dark blue sleeveless dress, an orange headband, and wristbands with the Nike logo. Her hair is tied back, and she has bright red nail polish on her fingers. The background suggests a professional tennis court setting, likely during a match or tournament. | ⏱️ 17.69s\n"
          ]
        },
        {
          "name": "stderr",
          "output_type": "stream",
          "text": [
            "The following generation flags are not valid and may be ignored: ['temperature']. Set `TRANSFORMERS_VERBOSITY=info` for more details.\n",
            "Generating captions:  43%|████▎     | 64/148 [13:20<18:50, 13.45s/it]"
          ]
        },
        {
          "name": "stdout",
          "output_type": "stream",
          "text": [
            "🖼️ 7e2cdb146ff9787e → The image shows two individuals standing on a tennis court, each holding trophies. The person on the right is wearing a black jacket with blue accents and is smiling while holding a trophy labeled \"Roland-Garros Simple Messieurs.\" The person on the left, dressed in a light blue jacket, is also smiling and holding a similar trophy. In the background, there are spectators seated in the stands, indicating that this is likely a post-match ceremony at a tennis tournament. | ⏱️ 10.56s\n"
          ]
        },
        {
          "name": "stderr",
          "output_type": "stream",
          "text": [
            "The following generation flags are not valid and may be ignored: ['temperature']. Set `TRANSFORMERS_VERBOSITY=info` for more details.\n",
            "Generating captions:  44%|████▍     | 65/148 [13:37<20:16, 14.65s/it]"
          ]
        },
        {
          "name": "stdout",
          "output_type": "stream",
          "text": [
            "🖼️ ec485a82f997cf28 → The image shows a man in a suit and tie speaking into microphones labeled \"3AW\" and \"9\". He appears to be addressing an audience or participating in a media event, as suggested by the microphones and his formal attire. The background is dark, focusing attention on him. | ⏱️ 16.22s\n"
          ]
        },
        {
          "name": "stderr",
          "output_type": "stream",
          "text": [
            "The following generation flags are not valid and may be ignored: ['temperature']. Set `TRANSFORMERS_VERBOSITY=info` for more details.\n",
            "Generating captions:  45%|████▍     | 66/148 [13:45<17:14, 12.62s/it]"
          ]
        },
        {
          "name": "stdout",
          "output_type": "stream",
          "text": [
            "🖼️ 7139f5373ca18762 → The image shows a person wearing a dark blue sports jersey with yellow accents and the Adidas logo on it. The individual appears to be in motion, possibly during a sporting event, as suggested by their focused expression and the blurred background indicating movement or a crowd. | ⏱️ 7.14s\n"
          ]
        },
        {
          "name": "stderr",
          "output_type": "stream",
          "text": [
            "The following generation flags are not valid and may be ignored: ['temperature']. Set `TRANSFORMERS_VERBOSITY=info` for more details.\n",
            "Generating captions:  45%|████▌     | 67/148 [13:50<14:03, 10.42s/it]"
          ]
        },
        {
          "name": "stdout",
          "output_type": "stream",
          "text": [
            "🖼️ e3c84924c261c35b → A female tennis player is captured mid-swing, hitting a ball with her racket. She is wearing a dark athletic dress with a Nike logo and appears focused on the game. The background shows a blurred tennis court setting with blue and green elements. | ⏱️ 4.76s\n"
          ]
        },
        {
          "name": "stderr",
          "output_type": "stream",
          "text": [
            "The following generation flags are not valid and may be ignored: ['temperature']. Set `TRANSFORMERS_VERBOSITY=info` for more details.\n",
            "Generating captions:  46%|████▌     | 68/148 [13:54<11:06,  8.33s/it]"
          ]
        },
        {
          "name": "stdout",
          "output_type": "stream",
          "text": [
            "🖼️ 0ecd326e3e77574d → A tennis player lies on a blue court, resting their head on one arm while the other arm is bent at the elbow. A tennis racket lies nearby, suggesting they are taking a break or have just finished playing. The scene conveys exhaustion or relief after an intense match. | ⏱️ 3.22s\n"
          ]
        },
        {
          "name": "stderr",
          "output_type": "stream",
          "text": [
            "The following generation flags are not valid and may be ignored: ['temperature']. Set `TRANSFORMERS_VERBOSITY=info` for more details.\n",
            "Generating captions:  47%|████▋     | 69/148 [13:59<09:46,  7.42s/it]"
          ]
        },
        {
          "name": "stdout",
          "output_type": "stream",
          "text": [
            "🖼️ be9342f5e5fb7e5d → A tennis player in a pink and blue outfit celebrates on the court, holding a tennis racket in one hand and raising her fist in the other. The background suggests an outdoor setting with a clear blue sky. | ⏱️ 4.76s\n"
          ]
        },
        {
          "name": "stderr",
          "output_type": "stream",
          "text": [
            "The following generation flags are not valid and may be ignored: ['temperature']. Set `TRANSFORMERS_VERBOSITY=info` for more details.\n",
            "Generating captions:  47%|████▋     | 70/148 [14:09<10:31,  8.10s/it]The following generation flags are not valid and may be ignored: ['temperature']. Set `TRANSFORMERS_VERBOSITY=info` for more details.\n"
          ]
        },
        {
          "name": "stdout",
          "output_type": "stream",
          "text": [
            "🖼️ 1f77f1ea5ebfb546 → A tennis player celebrates on a purple court, holding her racket above her head in a triumphant gesture. She is dressed in a turquoise sports bra, blue shorts, and white sneakers with neon accents. Her outfit includes a white skirt and a matching headband. The scene captures a moment of victory or joy during a match. | ⏱️ 8.83s\n"
          ]
        },
        {
          "name": "stderr",
          "output_type": "stream",
          "text": [
            "\rGenerating captions:  48%|████▊     | 71/148 [14:12<08:20,  6.50s/it]"
          ]
        },
        {
          "name": "stdout",
          "output_type": "stream",
          "text": [
            "🖼️ 0433e9c552f2e012 → A tennis player in a white Adidas shirt is shown on the court, holding a racket in his right hand. He appears to be in motion, possibly celebrating or reacting to a play, as he clenches his fist and looks towards the crowd. The background shows spectators seated in stadium-style seating, watching the match. | ⏱️ 2.69s\n"
          ]
        },
        {
          "name": "stderr",
          "output_type": "stream",
          "text": [
            "The following generation flags are not valid and may be ignored: ['temperature']. Set `TRANSFORMERS_VERBOSITY=info` for more details.\n",
            "Generating captions:  49%|████▊     | 72/148 [14:19<08:33,  6.76s/it]"
          ]
        },
        {
          "name": "stdout",
          "output_type": "stream",
          "text": [
            "🖼️ 975926f482120f6f → A female tennis player is captured mid-swing, hitting a tennis ball with her racket. She is wearing a purple sports outfit with yellow accents and an Adidas logo on the left side of her chest. The background is a solid blue, suggesting an indoor or night-time setting. The focus is on her intense expression and the motion of the ball and racket. | ⏱️ 6.75s\n",
            "💾 Intermediate save → /content/drive/MyDrive/[EVENTA 2025] Event-Enriched Image Captioning/vlm/148_c.json\n"
          ]
        },
        {
          "name": "stderr",
          "output_type": "stream",
          "text": [
            "The following generation flags are not valid and may be ignored: ['temperature']. Set `TRANSFORMERS_VERBOSITY=info` for more details.\n",
            "Generating captions:  49%|████▉     | 73/148 [14:30<10:05,  8.08s/it]"
          ]
        },
        {
          "name": "stdout",
          "output_type": "stream",
          "text": [
            "🖼️ 3a08bf6415f5ce08 → The image shows a tennis player in action, wearing a white shirt with orange accents and an Adidas logo. The player is focused on a tennis ball in mid-air, suggesting they are about to hit it during a match. The background is blurred, emphasizing the player and the ball. | ⏱️ 10.15s\n"
          ]
        },
        {
          "name": "stderr",
          "output_type": "stream",
          "text": [
            "The following generation flags are not valid and may be ignored: ['temperature']. Set `TRANSFORMERS_VERBOSITY=info` for more details.\n",
            "Generating captions:  50%|█████     | 74/148 [14:52<15:13, 12.34s/it]"
          ]
        },
        {
          "name": "stdout",
          "output_type": "stream",
          "text": [
            "🖼️ 4097a27ce2c2fd0c → A tennis player in a red shirt and black shorts is captured mid-action on a blue court, reaching out to hit a yellow tennis ball with their racket. The player's focused expression and dynamic pose suggest they are in the midst of an intense match or practice session. | ⏱️ 20.62s\n"
          ]
        },
        {
          "name": "stderr",
          "output_type": "stream",
          "text": [
            "The following generation flags are not valid and may be ignored: ['temperature']. Set `TRANSFORMERS_VERBOSITY=info` for more details.\n",
            "Generating captions:  51%|█████     | 75/148 [15:02<13:59, 11.50s/it]The following generation flags are not valid and may be ignored: ['temperature']. Set `TRANSFORMERS_VERBOSITY=info` for more details.\n"
          ]
        },
        {
          "name": "stdout",
          "output_type": "stream",
          "text": [
            "🖼️ 64587cd7287f6c37 → A tennis player is captured in mid-action on a blue court, diving to hit a yellow tennis ball with a black racket. The player is wearing a white shirt with pink and black accents, white shorts, and a black headband. The scene suggests an intense moment during a match. | ⏱️ 8.66s\n"
          ]
        },
        {
          "name": "stderr",
          "output_type": "stream",
          "text": [
            "\rGenerating captions:  51%|█████▏    | 76/148 [15:04<10:23,  8.66s/it]"
          ]
        },
        {
          "name": "stdout",
          "output_type": "stream",
          "text": [
            "🖼️ c9db39a182089413 → The image features a man in a suit, smiling, with a background of various postal and voting-related imagery, including stamps, envelopes, and a \"Vote For\" sign. The design suggests a political or electoral theme, possibly related to a campaign or election effort. | ⏱️ 2.02s\n"
          ]
        },
        {
          "name": "stderr",
          "output_type": "stream",
          "text": [
            "The following generation flags are not valid and may be ignored: ['temperature']. Set `TRANSFORMERS_VERBOSITY=info` for more details.\n",
            "Generating captions:  52%|█████▏    | 77/148 [15:09<09:05,  7.69s/it]"
          ]
        },
        {
          "name": "stdout",
          "output_type": "stream",
          "text": [
            "🖼️ 8447fa95cab01c72 → A tennis player in a white outfit celebrates on a court, arms raised in victory, surrounded by an enthusiastic crowd of spectators cheering and clapping. The setting appears to be a professional tennis match, likely at a prestigious tournament given the formal attire of the audience. | ⏱️ 4.90s\n"
          ]
        },
        {
          "name": "stderr",
          "output_type": "stream",
          "text": [
            "The following generation flags are not valid and may be ignored: ['temperature']. Set `TRANSFORMERS_VERBOSITY=info` for more details.\n",
            "Generating captions:  53%|█████▎    | 78/148 [15:18<09:09,  7.85s/it]"
          ]
        },
        {
          "name": "stdout",
          "output_type": "stream",
          "text": [
            "🖼️ 7e839201265cea30 → A man in a suit stands at a podium with the U.S. seal, speaking into microphones. Behind him is a backdrop featuring an image of the U.S. Capitol building and text related to Congress. He appears to be addressing an audience or press, possibly during a formal event or press conference. | ⏱️ 7.47s\n"
          ]
        },
        {
          "name": "stderr",
          "output_type": "stream",
          "text": [
            "The following generation flags are not valid and may be ignored: ['temperature']. Set `TRANSFORMERS_VERBOSITY=info` for more details.\n",
            "Generating captions:  53%|█████▎    | 79/148 [15:29<10:08,  8.81s/it]"
          ]
        },
        {
          "name": "stdout",
          "output_type": "stream",
          "text": [
            "🖼️ 9dffd985523374b9 → The image shows a tennis player celebrating on a court, likely after winning a point or match. The player is wearing a white shirt, wristbands, and a headband, holding a tennis racket in one hand and raising the other fist in triumph. The background is blurred, indicating a crowd of spectators, suggesting the setting is a professional tennis tournament. | ⏱️ 10.15s\n"
          ]
        },
        {
          "name": "stderr",
          "output_type": "stream",
          "text": [
            "The following generation flags are not valid and may be ignored: ['temperature']. Set `TRANSFORMERS_VERBOSITY=info` for more details.\n",
            "Generating captions:  54%|█████▍    | 80/148 [15:38<10:05,  8.90s/it]"
          ]
        },
        {
          "name": "stdout",
          "output_type": "stream",
          "text": [
            "🖼️ 05b56136d2deb23e → Two tennis players in blue and red uniforms are standing on a court, appearing to celebrate or discuss something. The player on the left is wearing a white cap and has his arm around the other player, who is speaking animatedly. They are surrounded by a crowd of people in red jackets, likely teammates or supporters, clapping and cheering. The setting appears to be a professional tennis match, possibly during a doubles game or a team event, given the presence of the crowd and the players' attire. | ⏱️ 8.45s\n"
          ]
        },
        {
          "name": "stderr",
          "output_type": "stream",
          "text": [
            "The following generation flags are not valid and may be ignored: ['temperature']. Set `TRANSFORMERS_VERBOSITY=info` for more details.\n",
            "Generating captions:  55%|█████▍    | 81/148 [16:00<14:18, 12.82s/it]"
          ]
        },
        {
          "name": "stdout",
          "output_type": "stream",
          "text": [
            "🖼️ 5ad588f10cdbd63a → A tennis player celebrates a victory, raising his fist in triumph while holding his racket high above his head. He is wearing a blue shirt with a white headband and wristbands. The background is dark, suggesting an indoor or night-time setting. | ⏱️ 20.22s\n"
          ]
        },
        {
          "name": "stderr",
          "output_type": "stream",
          "text": [
            "The following generation flags are not valid and may be ignored: ['temperature']. Set `TRANSFORMERS_VERBOSITY=info` for more details.\n",
            "Generating captions:  55%|█████▌    | 82/148 [16:14<14:30, 13.19s/it]"
          ]
        },
        {
          "name": "stdout",
          "output_type": "stream",
          "text": [
            "🖼️ 8db6766c28fa6ed5 → Two individuals are on a tennis court, one wearing a red shirt with \"JUST DO IT\" printed on it and a black cap, while the other wears a navy blue shirt with \"JUST DO IT\" in red and white. The person in the navy shirt is holding a tennis racket and appears to be placing or adjusting two tennis balls on the racket's strings. They seem focused on their task. The background includes a blue fence and a blue tarp, suggesting an outdoor setting. | ⏱️ 12.97s\n",
            "💾 Intermediate save → /content/drive/MyDrive/[EVENTA 2025] Event-Enriched Image Captioning/vlm/148_c.json\n"
          ]
        },
        {
          "name": "stderr",
          "output_type": "stream",
          "text": [
            "The following generation flags are not valid and may be ignored: ['temperature']. Set `TRANSFORMERS_VERBOSITY=info` for more details.\n",
            "Generating captions:  56%|█████▌    | 83/148 [16:18<11:22, 10.50s/it]"
          ]
        },
        {
          "name": "stdout",
          "output_type": "stream",
          "text": [
            "🖼️ 76e83fb7944c8d03 → A tennis player is in action, mid-swing, at a match during the US Open. She is wearing a white and black outfit with red accents and is focused on hitting the ball. The background shows a blue wall with \"USOpen.org\" and \"CITIZEN\" logos, indicating the event's setting. | ⏱️ 3.90s\n"
          ]
        },
        {
          "name": "stderr",
          "output_type": "stream",
          "text": [
            "The following generation flags are not valid and may be ignored: ['temperature']. Set `TRANSFORMERS_VERBOSITY=info` for more details.\n",
            "Generating captions:  57%|█████▋    | 84/148 [16:31<12:06, 11.35s/it]"
          ]
        },
        {
          "name": "stdout",
          "output_type": "stream",
          "text": [
            "🖼️ 571759e4f7cf0f30 → The image shows a person wearing a black sports jacket with \"UNIQLO\" and \"PEUGEOT\" logos on it, appearing to be in a state of intense emotion or exertion, as indicated by their open mouth and clenched eyes. The background is blurred, suggesting a sports setting with spectators. | ⏱️ 12.20s\n"
          ]
        },
        {
          "name": "stderr",
          "output_type": "stream",
          "text": [
            "The following generation flags are not valid and may be ignored: ['temperature']. Set `TRANSFORMERS_VERBOSITY=info` for more details.\n",
            "Generating captions:  57%|█████▋    | 85/148 [16:37<10:00,  9.54s/it]"
          ]
        },
        {
          "name": "stdout",
          "output_type": "stream",
          "text": [
            "🖼️ 6cfe1562bdde4563 → The image shows a tennis player in a blue outfit celebrating, with one fist raised in a gesture of triumph. The player is wearing a white wristband with \"UNIQLO\" branding. The background is blurred, suggesting an indoor or stadium setting. | ⏱️ 4.80s\n"
          ]
        },
        {
          "name": "stderr",
          "output_type": "stream",
          "text": [
            "The following generation flags are not valid and may be ignored: ['temperature']. Set `TRANSFORMERS_VERBOSITY=info` for more details.\n",
            "Generating captions:  58%|█████▊    | 86/148 [16:45<09:36,  9.30s/it]"
          ]
        },
        {
          "name": "stdout",
          "output_type": "stream",
          "text": [
            "🖼️ fb489f7bdae12421 → The image is a cartoon illustration of Novak Djokovic playing tennis at Roland Garros in Paris, dated from May 21 to June 10, 2018. The text on the image reads: \"I still want to continue tennis at the highest level. I am very motivated and I have always aimed high and this hasn't changed!\" The illustration shows Djokovic diving to hit a tennis ball with his racket. | ⏱️ 8.02s\n"
          ]
        },
        {
          "name": "stderr",
          "output_type": "stream",
          "text": [
            "The following generation flags are not valid and may be ignored: ['temperature']. Set `TRANSFORMERS_VERBOSITY=info` for more details.\n",
            "Generating captions:  59%|█████▉    | 87/148 [16:54<09:20,  9.19s/it]The following generation flags are not valid and may be ignored: ['temperature']. Set `TRANSFORMERS_VERBOSITY=info` for more details.\n"
          ]
        },
        {
          "name": "stdout",
          "output_type": "stream",
          "text": [
            "🖼️ ebdfd45e660f10fa → The image shows an older man playing tennis on a court. He is dressed in a white short-sleeved shirt, a beige sweater vest, white shorts, and white tennis shoes with black stripes. He holds a tennis racket in his right hand, preparing to hit a green tennis ball that is mid-air. The setting appears to be an indoor or evening match, as the background is dimly lit. | ⏱️ 8.19s\n"
          ]
        },
        {
          "name": "stderr",
          "output_type": "stream",
          "text": [
            "\rGenerating captions:  59%|█████▉    | 88/148 [16:57<07:08,  7.14s/it]"
          ]
        },
        {
          "name": "stdout",
          "output_type": "stream",
          "text": [
            "🖼️ 3ef0e1daaf39b6de → A man in a black sports jersey is holding a large trophy, smiling at the camera. The background shows a crowd of spectators, some wearing Welsh flags, suggesting the event is taking place in Wales or involves Welsh participants. The setting appears to be an indoor arena, likely during a sporting or darts competition. | ⏱️ 2.32s\n"
          ]
        },
        {
          "name": "stderr",
          "output_type": "stream",
          "text": [
            "The following generation flags are not valid and may be ignored: ['temperature']. Set `TRANSFORMERS_VERBOSITY=info` for more details.\n",
            "Generating captions:  60%|██████    | 89/148 [17:05<07:12,  7.33s/it]"
          ]
        },
        {
          "name": "stdout",
          "output_type": "stream",
          "text": [
            "🖼️ baeb88f5ffa81111 → A tennis player celebrates on the court, holding a racket in one hand and raising the other in a triumphant gesture. She is wearing a white Nike outfit, a pink headband, and wristbands, and appears to be in a moment of victory or excitement during a match. The background shows a blurred crowd, indicating the setting is likely a professional tennis tournament. | ⏱️ 7.09s\n"
          ]
        },
        {
          "name": "stderr",
          "output_type": "stream",
          "text": [
            "The following generation flags are not valid and may be ignored: ['temperature']. Set `TRANSFORMERS_VERBOSITY=info` for more details.\n",
            "Generating captions:  61%|██████    | 90/148 [17:18<08:59,  9.30s/it]The following generation flags are not valid and may be ignored: ['temperature']. Set `TRANSFORMERS_VERBOSITY=info` for more details.\n"
          ]
        },
        {
          "name": "stdout",
          "output_type": "stream",
          "text": [
            "🖼️ d5b4074d1c46f5a4 → The image shows a tennis player in a yellow long-sleeve shirt and white visor celebrating, likely after winning a point or match. The background is blurred, suggesting a tennis court setting with spectators. | ⏱️ 12.66s\n"
          ]
        },
        {
          "name": "stderr",
          "output_type": "stream",
          "text": [
            "\rGenerating captions:  61%|██████▏   | 91/148 [17:21<06:50,  7.20s/it]"
          ]
        },
        {
          "name": "stdout",
          "output_type": "stream",
          "text": [
            "🖼️ 7d364c17308f85a0 → A tennis player, dressed in white, is celebrating on a court surrounded by a large crowd of spectators. The audience is cheering enthusiastically, many clapping and raising their hands in celebration. The setting appears to be a professional tennis match, likely at a prestigious tournament given the formal attire of the crowd. | ⏱️ 2.28s\n"
          ]
        },
        {
          "name": "stderr",
          "output_type": "stream",
          "text": [
            "The following generation flags are not valid and may be ignored: ['temperature']. Set `TRANSFORMERS_VERBOSITY=info` for more details.\n",
            "Generating captions:  62%|██████▏   | 92/148 [17:25<06:00,  6.45s/it]The following generation flags are not valid and may be ignored: ['temperature']. Set `TRANSFORMERS_VERBOSITY=info` for more details.\n"
          ]
        },
        {
          "name": "stdout",
          "output_type": "stream",
          "text": [
            "🖼️ 725f2dd04150f765 → A tennis player in a red shirt celebrates on a clay court, raising both arms in victory. The background shows a crowd of spectators and photographers capturing the moment. | ⏱️ 4.16s\n",
            "💾 Intermediate save → /content/drive/MyDrive/[EVENTA 2025] Event-Enriched Image Captioning/vlm/148_c.json\n"
          ]
        },
        {
          "name": "stderr",
          "output_type": "stream",
          "text": [
            "\rGenerating captions:  63%|██████▎   | 93/148 [17:27<04:37,  5.04s/it]The following generation flags are not valid and may be ignored: ['temperature']. Set `TRANSFORMERS_VERBOSITY=info` for more details.\n"
          ]
        },
        {
          "name": "stdout",
          "output_type": "stream",
          "text": [
            "🖼️ f7b9faa8bf0001b1 → Two individuals are embracing warmly, one wearing a black jacket and the other in a yellow sports jersey with \"BVB\" visible on it. The setting appears to be a sports event, likely football, given the attire and context. | ⏱️ 1.74s\n"
          ]
        },
        {
          "name": "stderr",
          "output_type": "stream",
          "text": [
            "\rGenerating captions:  64%|██████▎   | 94/148 [17:29<03:41,  4.10s/it]"
          ]
        },
        {
          "name": "stdout",
          "output_type": "stream",
          "text": [
            "🖼️ 9001a5fcc2f6b3a7 → A soccer player in a dark blue jersey with \"Infinite Athlete\" on it is celebrating, raising his right hand with a finger pointing upwards. The background shows a crowd of spectators, some blurred, indicating the focus is on the player's action. | ⏱️ 1.91s\n"
          ]
        },
        {
          "name": "stderr",
          "output_type": "stream",
          "text": [
            "The following generation flags are not valid and may be ignored: ['temperature']. Set `TRANSFORMERS_VERBOSITY=info` for more details.\n",
            "Generating captions:  64%|██████▍   | 95/148 [17:45<06:38,  7.52s/it]"
          ]
        },
        {
          "name": "stdout",
          "output_type": "stream",
          "text": [
            "🖼️ 0cde14ba9597e34b → A female tennis player is captured mid-action, hitting a forehand shot on a court. She wears a red tank top, gray shorts, blue wristbands, and a red headband. The background shows a blurred audience and a blue wall with \"USTA\" written on it, indicating the setting is likely a USTA-sanctioned tennis event. | ⏱️ 14.25s\n"
          ]
        },
        {
          "name": "stderr",
          "output_type": "stream",
          "text": [
            "The following generation flags are not valid and may be ignored: ['temperature']. Set `TRANSFORMERS_VERBOSITY=info` for more details.\n",
            "Generating captions:  65%|██████▍   | 96/148 [17:54<06:57,  8.03s/it]"
          ]
        },
        {
          "name": "stdout",
          "output_type": "stream",
          "text": [
            "🖼️ b9af2f4749b3878c → A woman with long blonde hair is seen from behind, leaning over a barrier in what appears to be a sports arena or stadium. She is wearing a white jacket and has her mouth open as if speaking or reacting to something. In the background, there are other people, including someone in a blue shirt and another in a gray jacket, both partially visible. The setting suggests she might be a coach, commentator, or official at a sporting event. | ⏱️ 8.49s\n"
          ]
        },
        {
          "name": "stderr",
          "output_type": "stream",
          "text": [
            "The following generation flags are not valid and may be ignored: ['temperature']. Set `TRANSFORMERS_VERBOSITY=info` for more details.\n",
            "Generating captions:  66%|██████▌   | 97/148 [18:07<08:04,  9.51s/it]"
          ]
        },
        {
          "name": "stdout",
          "output_type": "stream",
          "text": [
            "🖼️ 1ec2e54b081cccfe → The image shows a tennis player in a black Under Armour outfit, wearing a cap and wristband, holding a tennis racket. The player appears focused, possibly during a match or practice session. The background is dark, suggesting an indoor or nighttime setting. | ⏱️ 11.79s\n"
          ]
        },
        {
          "name": "stderr",
          "output_type": "stream",
          "text": [
            "The following generation flags are not valid and may be ignored: ['temperature']. Set `TRANSFORMERS_VERBOSITY=info` for more details.\n",
            "Generating captions:  66%|██████▌   | 98/148 [18:15<07:43,  9.26s/it]"
          ]
        },
        {
          "name": "stdout",
          "output_type": "stream",
          "text": [
            "🖼️ 411599a434c5e9ac → The image shows a family of four walking together outdoors, likely on their way to or from school. The woman is wearing a floral dress and holding hands with two children, while the man in a suit walks alongside them. All are carrying bags, suggesting they are students. The setting appears to be near a brick building with an arched entrance, indicating a school environment. | ⏱️ 7.95s\n"
          ]
        },
        {
          "name": "stderr",
          "output_type": "stream",
          "text": [
            "The following generation flags are not valid and may be ignored: ['temperature']. Set `TRANSFORMERS_VERBOSITY=info` for more details.\n",
            "Generating captions:  67%|██████▋   | 99/148 [18:21<06:37,  8.11s/it]"
          ]
        },
        {
          "name": "stdout",
          "output_type": "stream",
          "text": [
            "🖼️ 78c50dfa378a37d6 → A female tennis player in a white outfit is captured mid-swing on a grass court, preparing to hit a tennis ball. She holds a tennis racket in both hands, focused on the ball which is visible in the air near her feet. The setting appears to be an outdoor tennis match or practice session. | ⏱️ 4.93s\n"
          ]
        },
        {
          "name": "stderr",
          "output_type": "stream",
          "text": [
            "The following generation flags are not valid and may be ignored: ['temperature']. Set `TRANSFORMERS_VERBOSITY=info` for more details.\n",
            "Generating captions:  68%|██████▊   | 100/148 [18:25<05:30,  6.89s/it]"
          ]
        },
        {
          "name": "stdout",
          "output_type": "stream",
          "text": [
            "🖼️ 068241e006ac8ebf → A tennis player in a blue shirt is captured mid-swing, hitting a tennis ball with a racket. The background shows a blue wall with \"US Open\" partially visible, indicating the setting is likely a US Open tennis tournament. | ⏱️ 3.64s\n"
          ]
        },
        {
          "name": "stderr",
          "output_type": "stream",
          "text": [
            "The following generation flags are not valid and may be ignored: ['temperature']. Set `TRANSFORMERS_VERBOSITY=info` for more details.\n",
            "Generating captions:  68%|██████▊   | 101/148 [18:35<06:14,  7.96s/it]The following generation flags are not valid and may be ignored: ['temperature']. Set `TRANSFORMERS_VERBOSITY=info` for more details.\n"
          ]
        },
        {
          "name": "stdout",
          "output_type": "stream",
          "text": [
            "🖼️ 8fdcbb16c6f321d6 → A man and a woman are kissing on a tennis court, each holding a tennis racket. The woman is wearing a pink outfit, and the man is in a white shirt with green accents. They appear to be celebrating or showing affection after a match, as there is an audience in the background. | ⏱️ 9.53s\n"
          ]
        },
        {
          "name": "stderr",
          "output_type": "stream",
          "text": [
            "\rGenerating captions:  69%|██████▉   | 102/148 [18:37<04:44,  6.18s/it]"
          ]
        },
        {
          "name": "stdout",
          "output_type": "stream",
          "text": [
            "🖼️ 76eb9239970aac39 → A person is performing on stage, holding a microphone close to their mouth, singing or speaking. They are wearing a white t-shirt and have one arm raised, gesturing as they perform. The background features red lighting, suggesting a concert or live music event setting. | ⏱️ 1.99s\n",
            "💾 Intermediate save → /content/drive/MyDrive/[EVENTA 2025] Event-Enriched Image Captioning/vlm/148_c.json\n"
          ]
        },
        {
          "name": "stderr",
          "output_type": "stream",
          "text": [
            "The following generation flags are not valid and may be ignored: ['temperature']. Set `TRANSFORMERS_VERBOSITY=info` for more details.\n",
            "Generating captions:  70%|██████▉   | 103/148 [18:42<04:18,  5.75s/it]The following generation flags are not valid and may be ignored: ['temperature']. Set `TRANSFORMERS_VERBOSITY=info` for more details.\n"
          ]
        },
        {
          "name": "stdout",
          "output_type": "stream",
          "text": [
            "🖼️ 7af62f360c46b3cb → The image shows a close-up of a person wearing a white shirt with red accents, likely a sports jersey. The background is dark, focusing attention on the individual's face, which appears to be in motion or mid-expression. The lighting highlights the person's facial features, including their eyes, nose, and part of their beard. | ⏱️ 4.36s\n"
          ]
        },
        {
          "name": "stderr",
          "output_type": "stream",
          "text": [
            "\rGenerating captions:  70%|███████   | 104/148 [18:44<03:17,  4.48s/it]"
          ]
        },
        {
          "name": "stdout",
          "output_type": "stream",
          "text": [
            "🖼️ ca8d37f3a4898c09 → A tennis player wearing a light blue shirt and a black cap is seen in action, holding a tennis racket and appearing focused on the game. The background suggests an indoor stadium setting with blurred spectators. | ⏱️ 1.52s\n"
          ]
        },
        {
          "name": "stderr",
          "output_type": "stream",
          "text": [
            "The following generation flags are not valid and may be ignored: ['temperature']. Set `TRANSFORMERS_VERBOSITY=info` for more details.\n",
            "Generating captions:  71%|███████   | 105/148 [18:52<04:06,  5.74s/it]"
          ]
        },
        {
          "name": "stdout",
          "output_type": "stream",
          "text": [
            "🖼️ b5331fc5a9f61169 → A tennis player in a light blue shirt celebrates with both fists raised, wearing wristbands on each arm. The background shows a crowd of spectators, indicating the setting is likely a professional tennis match. | ⏱️ 7.83s\n"
          ]
        },
        {
          "name": "stderr",
          "output_type": "stream",
          "text": [
            "The following generation flags are not valid and may be ignored: ['temperature']. Set `TRANSFORMERS_VERBOSITY=info` for more details.\n",
            "Generating captions:  72%|███████▏  | 106/148 [19:00<04:22,  6.26s/it]"
          ]
        },
        {
          "name": "stdout",
          "output_type": "stream",
          "text": [
            "🖼️ 0016f08376cdf2fa → A tennis player in a white outfit is diving on a grass court, preparing to hit a tennis ball with their racket. The background shows a blurred crowd of spectators, indicating a professional match setting. | ⏱️ 6.71s\n"
          ]
        },
        {
          "name": "stderr",
          "output_type": "stream",
          "text": [
            "The following generation flags are not valid and may be ignored: ['temperature']. Set `TRANSFORMERS_VERBOSITY=info` for more details.\n",
            "Generating captions:  72%|███████▏  | 107/148 [19:10<05:05,  7.45s/it]"
          ]
        },
        {
          "name": "stdout",
          "output_type": "stream",
          "text": [
            "🖼️ 5c35162040ba211e → The image is a detailed map of the London Underground, constructed using LEGO bricks. It includes all lines and stations, with each line represented by a different color. The map is labeled \"Transport for London\" at the bottom right corner, indicating its official association. The LEGO logo is visible in the top left corner, suggesting it was created as a creative representation or model. The map also includes notes about future developments, marked with \"2020\" and other annotations. | ⏱️ 9.40s\n"
          ]
        },
        {
          "name": "stderr",
          "output_type": "stream",
          "text": [
            "The following generation flags are not valid and may be ignored: ['temperature']. Set `TRANSFORMERS_VERBOSITY=info` for more details.\n",
            "Generating captions:  73%|███████▎  | 108/148 [19:18<04:59,  7.48s/it]"
          ]
        },
        {
          "name": "stdout",
          "output_type": "stream",
          "text": [
            "🖼️ f5f359cc7fbad984 → The image shows a man with gray hair, wearing glasses, smoking a cigarette. He is exhaling smoke, which is visible in the foreground. The background is dark, focusing attention on the man and the smoke. | ⏱️ 6.82s\n"
          ]
        },
        {
          "name": "stderr",
          "output_type": "stream",
          "text": [
            "The following generation flags are not valid and may be ignored: ['temperature']. Set `TRANSFORMERS_VERBOSITY=info` for more details.\n",
            "Generating captions:  74%|███████▎  | 109/148 [19:26<05:06,  7.87s/it]"
          ]
        },
        {
          "name": "stdout",
          "output_type": "stream",
          "text": [
            "🖼️ 22f1433014ec4e76 → The image shows a woman playing tennis on a grass court. She is wearing a white tennis dress with pink accents, white wristbands, and white sneakers with blue details. She holds a tennis racket in her right hand, preparing to hit the ball. The background is a green wall, suggesting an outdoor setting. | ⏱️ 7.99s\n"
          ]
        },
        {
          "name": "stderr",
          "output_type": "stream",
          "text": [
            "The following generation flags are not valid and may be ignored: ['temperature']. Set `TRANSFORMERS_VERBOSITY=info` for more details.\n",
            "Generating captions:  74%|███████▍  | 110/148 [19:50<07:54, 12.48s/it]"
          ]
        },
        {
          "name": "stdout",
          "output_type": "stream",
          "text": [
            "🖼️ fb15447f040168af → A tennis player in a blue tank top celebrates on the court, raising both arms in victory. The background shows a crowd of spectators cheering, including one holding a sign that reads \"ALLEZ GAEL!\" (Go Gael!) in French. A mascot in a blue costume resembling a rooster is also visible near the player. The scene suggests a tennis match, likely at a significant event given the enthusiastic support from the fans. | ⏱️ 21.55s\n"
          ]
        },
        {
          "name": "stderr",
          "output_type": "stream",
          "text": [
            "The following generation flags are not valid and may be ignored: ['temperature']. Set `TRANSFORMERS_VERBOSITY=info` for more details.\n",
            "Generating captions:  75%|███████▌  | 111/148 [19:54<06:07,  9.94s/it]"
          ]
        },
        {
          "name": "stdout",
          "output_type": "stream",
          "text": [
            "🖼️ baa5c44449a6be6f → The image shows a tennis player in action, wearing a blue Adidas shirt, holding a tennis racket in his right hand. He appears to be mid-match, with a focused expression and one hand raised, possibly gesturing or reacting to play. The background suggests an indoor tennis court setting with spectators. | ⏱️ 3.69s\n"
          ]
        },
        {
          "name": "stderr",
          "output_type": "stream",
          "text": [
            "The following generation flags are not valid and may be ignored: ['temperature']. Set `TRANSFORMERS_VERBOSITY=info` for more details.\n",
            "Generating captions:  76%|███████▌  | 112/148 [20:02<05:41,  9.47s/it]"
          ]
        },
        {
          "name": "stdout",
          "output_type": "stream",
          "text": [
            "🖼️ b519b69ae00e73b0 → The image shows a tennis match taking place at night in a large, well-lit stadium filled with spectators. The court is blue with white lines marking the playing area, and the stands are packed with fans. The sky above is dark, indicating it's evening or nighttime. The scene captures the atmosphere of a professional tennis tournament. | ⏱️ 7.64s\n",
            "💾 Intermediate save → /content/drive/MyDrive/[EVENTA 2025] Event-Enriched Image Captioning/vlm/148_c.json\n"
          ]
        },
        {
          "name": "stderr",
          "output_type": "stream",
          "text": [
            "The following generation flags are not valid and may be ignored: ['temperature']. Set `TRANSFORMERS_VERBOSITY=info` for more details.\n",
            "Generating captions:  76%|███████▋  | 113/148 [20:25<07:48, 13.39s/it]"
          ]
        },
        {
          "name": "stdout",
          "output_type": "stream",
          "text": [
            "🖼️ 780ff73acc5bdff2 → Two tennis players stand on a podium, each holding trophies. The player in white is the runner-up, holding a silver shield labeled \"US Open 2015 Men's Singles Championship Finalist.\" The player in blue is the winner, holding a large silver trophy. They are surrounded by American flags and spectators in the background, indicating the setting is likely an awards ceremony at the US Open tennis tournament. | ⏱️ 21.05s\n"
          ]
        },
        {
          "name": "stderr",
          "output_type": "stream",
          "text": [
            "The following generation flags are not valid and may be ignored: ['temperature']. Set `TRANSFORMERS_VERBOSITY=info` for more details.\n",
            "Generating captions:  77%|███████▋  | 114/148 [20:41<08:08, 14.37s/it]The following generation flags are not valid and may be ignored: ['temperature']. Set `TRANSFORMERS_VERBOSITY=info` for more details.\n"
          ]
        },
        {
          "name": "stdout",
          "output_type": "stream",
          "text": [
            "🖼️ 525cd31951d91afa → Three tennis players in white and blue uniforms celebrate on a blue court, hugging each other in a moment of joy or victory. The background shows spectators and advertisements, suggesting a professional match setting. | ⏱️ 15.31s\n"
          ]
        },
        {
          "name": "stderr",
          "output_type": "stream",
          "text": [
            "\rGenerating captions:  78%|███████▊  | 115/148 [20:46<06:23, 11.61s/it]"
          ]
        },
        {
          "name": "stdout",
          "output_type": "stream",
          "text": [
            "🖼️ a13fc82013f20f21 → This image shows an anonymous poll asking who people would like to see as a new city manager for Barnaul. The results are as follows:\n",
            "\n",
            "- Cat Barsik received 5,001 votes (91.6%).\n",
            "- Vladimir Barsukov received 85 votes (16%).\n",
            "- Andrei Shchukin received 66 votes (12%).\n",
            "- Alexander Molotov received 159 votes (2.9%).\n",
            "- Yuri Ryapolov received 51 votes (0.9%).\n",
            "- Sergey Dugin received 74 votes (14%).\n",
            "\n",
            "A total of 5,458 people voted in the poll. | ⏱️ 5.14s\n"
          ]
        },
        {
          "name": "stderr",
          "output_type": "stream",
          "text": [
            "The following generation flags are not valid and may be ignored: ['temperature']. Set `TRANSFORMERS_VERBOSITY=info` for more details.\n",
            "Generating captions:  78%|███████▊  | 116/148 [20:52<05:10,  9.72s/it]"
          ]
        },
        {
          "name": "stdout",
          "output_type": "stream",
          "text": [
            "🖼️ 07798a37e1ce194b → A tennis player is captured mid-swing on a clay court, wearing a blue shirt and white shorts. The player is focused on hitting a yellow tennis ball with a black and red racket. The scene suggests an intense moment during a match. | ⏱️ 4.78s\n"
          ]
        },
        {
          "name": "stderr",
          "output_type": "stream",
          "text": [
            "The following generation flags are not valid and may be ignored: ['temperature']. Set `TRANSFORMERS_VERBOSITY=info` for more details.\n",
            "Generating captions:  79%|███████▉  | 117/148 [21:00<04:48,  9.30s/it]The following generation flags are not valid and may be ignored: ['temperature']. Set `TRANSFORMERS_VERBOSITY=info` for more details.\n"
          ]
        },
        {
          "name": "stdout",
          "output_type": "stream",
          "text": [
            "🖼️ 41c1a79ec6e90bb8 → The image depicts a political rally or convention setting, featuring a large screen displaying a person in military uniform. The audience is holding signs that read \"USA,\" indicating support for a national cause or candidate. The stage has a blue carpet and geometric patterns, with American flags on podiums, suggesting an official or patriotic event. | ⏱️ 7.58s\n"
          ]
        },
        {
          "name": "stderr",
          "output_type": "stream",
          "text": [
            "\rGenerating captions:  80%|███████▉  | 118/148 [21:02<03:35,  7.20s/it]"
          ]
        },
        {
          "name": "stdout",
          "output_type": "stream",
          "text": [
            "🖼️ 1688c123c43bea76 → A tennis player in a blue outfit is holding a tennis racket in one hand and three tennis balls in the other, raising his arm in victory or celebration on a court. The background shows spectators seated in bleachers, suggesting a professional match setting. | ⏱️ 2.20s\n"
          ]
        },
        {
          "name": "stderr",
          "output_type": "stream",
          "text": [
            "The following generation flags are not valid and may be ignored: ['temperature']. Set `TRANSFORMERS_VERBOSITY=info` for more details.\n",
            "Generating captions:  80%|████████  | 119/148 [21:11<03:42,  7.68s/it]"
          ]
        },
        {
          "name": "stdout",
          "output_type": "stream",
          "text": [
            "🖼️ 89977bebc89361db → A tennis player in a bright yellow shirt is captured mid-swing, holding a red and white Wilson tennis racket. The background suggests a tennis court setting with green walls and some blurred signage. | ⏱️ 7.94s\n"
          ]
        },
        {
          "name": "stderr",
          "output_type": "stream",
          "text": [
            "The following generation flags are not valid and may be ignored: ['temperature']. Set `TRANSFORMERS_VERBOSITY=info` for more details.\n",
            "Generating captions:  81%|████████  | 120/148 [21:19<03:36,  7.72s/it]"
          ]
        },
        {
          "name": "stdout",
          "output_type": "stream",
          "text": [
            "🖼️ 8ffc5787b1c1f54b → A tennis player in a green shirt and white shorts is captured mid-swing on a blue court, hitting a tennis ball with a racket. The player's knees are wrapped, suggesting injury support. The scene conveys an intense moment during a match. | ⏱️ 7.09s\n"
          ]
        },
        {
          "name": "stderr",
          "output_type": "stream",
          "text": [
            "The following generation flags are not valid and may be ignored: ['temperature']. Set `TRANSFORMERS_VERBOSITY=info` for more details.\n",
            "Generating captions:  82%|████████▏ | 121/148 [21:29<03:44,  8.33s/it]The following generation flags are not valid and may be ignored: ['temperature']. Set `TRANSFORMERS_VERBOSITY=info` for more details.\n"
          ]
        },
        {
          "name": "stdout",
          "output_type": "stream",
          "text": [
            "🖼️ 30da76a736501d78 → Two tennis players are shaking hands at the net, likely after a match, with spectators in the background. One player is wearing a white shirt and holding a racket, while the other is in a blue shirt and also holding a racket. The setting appears to be a professional tennis tournament. | ⏱️ 8.85s\n"
          ]
        },
        {
          "name": "stderr",
          "output_type": "stream",
          "text": [
            "\rGenerating captions:  82%|████████▏ | 122/148 [21:31<02:49,  6.54s/it]"
          ]
        },
        {
          "name": "stdout",
          "output_type": "stream",
          "text": [
            "🖼️ 008444442047d6d9 → The image depicts a figure standing in a dimly lit, abstract space with geometric shapes and light sources creating a glowing effect. The figure appears to be wearing a short skirt and is silhouetted against the bright background, giving it an ethereal or dreamlike quality. The overall atmosphere is surreal and mysterious. | ⏱️ 2.34s\n",
            "💾 Intermediate save → /content/drive/MyDrive/[EVENTA 2025] Event-Enriched Image Captioning/vlm/148_c.json\n"
          ]
        },
        {
          "name": "stderr",
          "output_type": "stream",
          "text": [
            "The following generation flags are not valid and may be ignored: ['temperature']. Set `TRANSFORMERS_VERBOSITY=info` for more details.\n",
            "Generating captions:  83%|████████▎ | 123/148 [21:35<02:27,  5.91s/it]The following generation flags are not valid and may be ignored: ['temperature']. Set `TRANSFORMERS_VERBOSITY=info` for more details.\n"
          ]
        },
        {
          "name": "stdout",
          "output_type": "stream",
          "text": [
            "🖼️ 8aae010426318c69 → Two tennis players are shaking hands on a court, likely after a match or during a break in play. The player on the left is wearing a teal and white shirt, while the player on the right is dressed in black with a pink Nike logo and a black cap. The background is blurred, suggesting a stadium setting with spectators. | ⏱️ 4.10s\n"
          ]
        },
        {
          "name": "stderr",
          "output_type": "stream",
          "text": [
            "\rGenerating captions:  84%|████████▍ | 124/148 [21:37<01:51,  4.64s/it]"
          ]
        },
        {
          "name": "stdout",
          "output_type": "stream",
          "text": [
            "🖼️ a0a07b389960e653 → A Ryanair airplane is captured in motion on a runway, likely during takeoff or landing. The aircraft's livery, featuring the airline's logo and name, is clearly visible against the background of an airport setting. | ⏱️ 1.66s\n"
          ]
        },
        {
          "name": "stderr",
          "output_type": "stream",
          "text": [
            "The following generation flags are not valid and may be ignored: ['temperature']. Set `TRANSFORMERS_VERBOSITY=info` for more details.\n"
          ]
        },
        {
          "name": "stdout",
          "output_type": "stream",
          "text": [
            "❌ Skipped (Out of memory): /content/r100_image_1/fe2a04a358bcca71.jpg\n"
          ]
        },
        {
          "name": "stderr",
          "output_type": "stream",
          "text": [
            "Generating captions:  84%|████████▍ | 125/148 [21:39<01:29,  3.90s/it]The following generation flags are not valid and may be ignored: ['temperature']. Set `TRANSFORMERS_VERBOSITY=info` for more details.\n",
            "Generating captions:  85%|████████▌ | 126/148 [21:48<01:55,  5.26s/it]"
          ]
        },
        {
          "name": "stdout",
          "output_type": "stream",
          "text": [
            "🖼️ 9757674239f2f9d3 → The image shows a female tennis player in an intense moment, likely during a match. She is wearing a black Nike visor, a black sports top with lace details, and appears to be sweating, indicating physical exertion. The background is blurred, suggesting a crowd of spectators, which implies that this is a professional or competitive setting. | ⏱️ 7.70s\n"
          ]
        },
        {
          "name": "stderr",
          "output_type": "stream",
          "text": [
            "The following generation flags are not valid and may be ignored: ['temperature']. Set `TRANSFORMERS_VERBOSITY=info` for more details.\n",
            "Generating captions:  86%|████████▌ | 127/148 [21:51<01:37,  4.66s/it]The following generation flags are not valid and may be ignored: ['temperature']. Set `TRANSFORMERS_VERBOSITY=info` for more details.\n"
          ]
        },
        {
          "name": "stdout",
          "output_type": "stream",
          "text": [
            "🖼️ 0dc494a6a47a50a7 → The image shows a tree silhouetted against a hazy, orange-tinted sky, likely during a dust storm or similar atmospheric condition. The tree's branches are spread out, and the overall scene has a muted, sepia-like quality. | ⏱️ 3.02s\n"
          ]
        },
        {
          "name": "stderr",
          "output_type": "stream",
          "text": [
            "\rGenerating captions:  86%|████████▋ | 128/148 [21:53<01:15,  3.79s/it]"
          ]
        },
        {
          "name": "stdout",
          "output_type": "stream",
          "text": [
            "🖼️ 0c7b751a73e9f6ab → A person in a blue and white striped shirt is holding up a silver trophy, celebrating in front of a crowd at what appears to be a stadium or sports venue. The setting suggests a victory or achievement in a sporting event. | ⏱️ 1.75s\n"
          ]
        },
        {
          "name": "stderr",
          "output_type": "stream",
          "text": [
            "The following generation flags are not valid and may be ignored: ['temperature']. Set `TRANSFORMERS_VERBOSITY=info` for more details.\n",
            "Generating captions:  87%|████████▋ | 129/148 [22:09<02:24,  7.63s/it]The following generation flags are not valid and may be ignored: ['temperature']. Set `TRANSFORMERS_VERBOSITY=info` for more details.\n"
          ]
        },
        {
          "name": "stdout",
          "output_type": "stream",
          "text": [
            "🖼️ 78ade61137384c87 → The image shows a tennis player in action, wearing a white polo shirt and shorts, preparing to hit a tennis ball with a racket. The background is a solid blue, suggesting an indoor or outdoor court setting. The player's focused expression and posture indicate they are engaged in a competitive match. | ⏱️ 15.48s\n"
          ]
        },
        {
          "name": "stderr",
          "output_type": "stream",
          "text": [
            "\rGenerating captions:  88%|████████▊ | 130/148 [22:12<01:52,  6.23s/it]"
          ]
        },
        {
          "name": "stdout",
          "output_type": "stream",
          "text": [
            "🖼️ da3b87f62bd3694d → The image shows two individuals, one on the left and one on the right, both dressed in formal suits and ties, standing at podiums. The setting appears to be a debate or formal discussion event, as suggested by their attire and the microphones in front of them. The individual on the left is gesturing with his hand, while the individual on the right has a more composed posture. | ⏱️ 2.94s\n"
          ]
        },
        {
          "name": "stderr",
          "output_type": "stream",
          "text": [
            "The following generation flags are not valid and may be ignored: ['temperature']. Set `TRANSFORMERS_VERBOSITY=info` for more details.\n",
            "Generating captions:  89%|████████▊ | 131/148 [22:18<01:43,  6.12s/it]"
          ]
        },
        {
          "name": "stdout",
          "output_type": "stream",
          "text": [
            "🖼️ 4422be691b185de1 → A tennis player in a purple and blue outfit is captured mid-swing, hitting a tennis ball with a racket. The background shows a blurred crowd, indicating a professional match setting. | ⏱️ 5.24s\n"
          ]
        },
        {
          "name": "stderr",
          "output_type": "stream",
          "text": [
            "The following generation flags are not valid and may be ignored: ['temperature']. Set `TRANSFORMERS_VERBOSITY=info` for more details.\n",
            "Generating captions:  89%|████████▉ | 132/148 [22:30<02:03,  7.71s/it]"
          ]
        },
        {
          "name": "stdout",
          "output_type": "stream",
          "text": [
            "🖼️ de7cb23d61f12698 → The image shows a soccer player wearing a white jersey with the number 20 and an American flag emblem, celebrating with clenched fists raised in the air. The background is blurred, suggesting a stadium setting with spectators. | ⏱️ 10.46s\n"
          ]
        },
        {
          "name": "stderr",
          "output_type": "stream",
          "text": [
            "The following generation flags are not valid and may be ignored: ['temperature']. Set `TRANSFORMERS_VERBOSITY=info` for more details.\n",
            "Generating captions:  90%|████████▉ | 133/148 [22:43<02:20,  9.35s/it]"
          ]
        },
        {
          "name": "stdout",
          "output_type": "stream",
          "text": [
            "🖼️ 48f42b1cc4f15bec → The image shows a person wearing traditional Middle Eastern attire, including a white dishdasha and a keffiyeh, seated at a table with microphones in front of them. The backdrop features the logo of the National Media Council of the United Arab Emirates, indicating that the setting is likely a press conference or media event related to media regulation in the UAE. | ⏱️ 12.10s\n",
            "💾 Intermediate save → /content/drive/MyDrive/[EVENTA 2025] Event-Enriched Image Captioning/vlm/148_c.json\n"
          ]
        },
        {
          "name": "stderr",
          "output_type": "stream",
          "text": [
            "The following generation flags are not valid and may be ignored: ['temperature']. Set `TRANSFORMERS_VERBOSITY=info` for more details.\n",
            "Generating captions:  91%|█████████ | 134/148 [22:46<01:46,  7.61s/it]"
          ]
        },
        {
          "name": "stdout",
          "output_type": "stream",
          "text": [
            "🖼️ ca840965a96184ba → A tennis player kisses a trophy, which is adorned with a ribbon that reads \"BNP Paribas.\" The setting appears to be a celebratory moment after winning a match or tournament. | ⏱️ 3.18s\n"
          ]
        },
        {
          "name": "stderr",
          "output_type": "stream",
          "text": [
            "The following generation flags are not valid and may be ignored: ['temperature']. Set `TRANSFORMERS_VERBOSITY=info` for more details.\n",
            "Generating captions:  91%|█████████ | 135/148 [22:55<01:43,  7.97s/it]"
          ]
        },
        {
          "name": "stdout",
          "output_type": "stream",
          "text": [
            "🖼️ 47fc6a4d367db2bb → Two tennis players are standing on a court, holding rackets. The player on the left is wearing a red shirt and has a pink wristband, while the player on the right is in a blue shirt with \"UNIQLO\" and \"PEUGEOT\" logos. They appear to be posing for a photo after a match, as there is a crowd of spectators in the background. | ⏱️ 8.05s\n"
          ]
        },
        {
          "name": "stderr",
          "output_type": "stream",
          "text": [
            "The following generation flags are not valid and may be ignored: ['temperature']. Set `TRANSFORMERS_VERBOSITY=info` for more details.\n",
            "Generating captions:  92%|█████████▏| 136/148 [23:04<01:38,  8.19s/it]"
          ]
        },
        {
          "name": "stdout",
          "output_type": "stream",
          "text": [
            "🖼️ ae1ebb82f462886c → A large crowd of people is gathered in a stadium, holding up signs that read \"Llibertat! Presos Polítics\" (Freedom! Political Prisoners). The signs are yellow with black text and feature a yellow ribbon symbol. Some individuals wear Catalan flags as scarves or headbands. The atmosphere suggests a protest or demonstration advocating for the release of political prisoners. | ⏱️ 7.98s\n"
          ]
        },
        {
          "name": "stderr",
          "output_type": "stream",
          "text": [
            "The following generation flags are not valid and may be ignored: ['temperature']. Set `TRANSFORMERS_VERBOSITY=info` for more details.\n",
            "Generating captions:  93%|█████████▎| 137/148 [23:26<02:17, 12.50s/it]"
          ]
        },
        {
          "name": "stdout",
          "output_type": "stream",
          "text": [
            "🖼️ d7877aaf28aca665 → The image shows a tennis player celebrating on the court, wearing a white shirt with blue and orange stripes and blue shorts. The player is holding a tennis racket in one hand and appears to be shouting or expressing excitement. In the background, there are spectators and photographers capturing the moment, indicating that this is likely a professional tennis match. | ⏱️ 20.83s\n"
          ]
        },
        {
          "name": "stderr",
          "output_type": "stream",
          "text": [
            "The following generation flags are not valid and may be ignored: ['temperature']. Set `TRANSFORMERS_VERBOSITY=info` for more details.\n",
            "Generating captions:  93%|█████████▎| 138/148 [23:40<02:09, 12.90s/it]"
          ]
        },
        {
          "name": "stdout",
          "output_type": "stream",
          "text": [
            "🖼️ 9b3afd0b3ece9528 → The image shows a man with light-colored hair styled upwards, wearing a dark suit jacket over a white shirt. The background is blurred, suggesting an outdoor setting. The man appears to be in a thoughtful or serious pose. | ⏱️ 12.70s\n"
          ]
        },
        {
          "name": "stderr",
          "output_type": "stream",
          "text": [
            "The following generation flags are not valid and may be ignored: ['temperature']. Set `TRANSFORMERS_VERBOSITY=info` for more details.\n",
            "Generating captions:  94%|█████████▍| 139/148 [23:54<01:59, 13.30s/it]"
          ]
        },
        {
          "name": "stdout",
          "output_type": "stream",
          "text": [
            "🖼️ 107cac2d4b15f3da → The image shows a sign titled \"THE QUEUE CODE OF CONDUCT\" at Wimbledon, detailing rules for queueing during The Championships. It outlines guidelines such as the use of Queue Cards, restrictions on equipment, behavior expectations, and rules regarding alcohol consumption. The sign is set against a clear sky. | ⏱️ 13.06s\n"
          ]
        },
        {
          "name": "stderr",
          "output_type": "stream",
          "text": [
            "The following generation flags are not valid and may be ignored: ['temperature']. Set `TRANSFORMERS_VERBOSITY=info` for more details.\n",
            "Generating captions:  95%|█████████▍| 140/148 [24:06<01:43, 12.91s/it]"
          ]
        },
        {
          "name": "stdout",
          "output_type": "stream",
          "text": [
            "🖼️ 2adb0931c511afdf → The image shows a tennis player wearing a red shirt, white shorts, yellow wristbands, and a yellow headband. The player is holding a tennis racket in one hand and appears to be in motion, possibly during a match or practice session. The background is blurred, indicating a focus on the player, with spectators visible in the distance. | ⏱️ 11.00s\n"
          ]
        },
        {
          "name": "stderr",
          "output_type": "stream",
          "text": [
            "The following generation flags are not valid and may be ignored: ['temperature']. Set `TRANSFORMERS_VERBOSITY=info` for more details.\n",
            "Generating captions:  95%|█████████▌| 141/148 [24:10<01:11, 10.20s/it]The following generation flags are not valid and may be ignored: ['temperature']. Set `TRANSFORMERS_VERBOSITY=info` for more details.\n"
          ]
        },
        {
          "name": "stdout",
          "output_type": "stream",
          "text": [
            "🖼️ 430779cc0bfc007b → Two tennis players are shaking hands at the net, likely after a match, in front of a large crowd. The player on the left wears an Adidas shirt with stars and a zigzag design, while the player on the right wears a white and green Puma shirt. The setting appears to be a professional tennis tournament. | ⏱️ 3.61s\n"
          ]
        },
        {
          "name": "stderr",
          "output_type": "stream",
          "text": [
            "\rGenerating captions:  96%|█████████▌| 142/148 [24:13<00:47,  7.99s/it]"
          ]
        },
        {
          "name": "stdout",
          "output_type": "stream",
          "text": [
            "🖼️ 0d7b465f1481e3d4 → This black-and-white image is a collage featuring numerous individuals, including musicians, athletes, and public figures. It appears to celebrate diverse talents across various fields, highlighting their contributions and legacies. The mix of formal and casual attire suggests a tribute to both professional achievements and personal styles. | ⏱️ 2.69s\n"
          ]
        },
        {
          "name": "stderr",
          "output_type": "stream",
          "text": [
            "The following generation flags are not valid and may be ignored: ['temperature']. Set `TRANSFORMERS_VERBOSITY=info` for more details.\n",
            "Generating captions:  97%|█████████▋| 143/148 [24:25<00:45,  9.10s/it]"
          ]
        },
        {
          "name": "stdout",
          "output_type": "stream",
          "text": [
            "🖼️ 5e0cf2885b2fed1b → The image shows a tennis player wearing a blue shirt and a black headband with a Nike logo, waving with his right hand while smiling. The background is blurred, suggesting a crowd in a stadium setting, indicating that this is likely a professional tennis match or event. | ⏱️ 10.73s\n",
            "💾 Intermediate save → /content/drive/MyDrive/[EVENTA 2025] Event-Enriched Image Captioning/vlm/148_c.json\n"
          ]
        },
        {
          "name": "stderr",
          "output_type": "stream",
          "text": [
            "The following generation flags are not valid and may be ignored: ['temperature']. Set `TRANSFORMERS_VERBOSITY=info` for more details.\n"
          ]
        },
        {
          "name": "stdout",
          "output_type": "stream",
          "text": [
            "❌ Skipped (Out of memory): /content/r100_image_1/c9861d244df448c0.jpg\n"
          ]
        },
        {
          "name": "stderr",
          "output_type": "stream",
          "text": [
            "Generating captions:  97%|█████████▋| 144/148 [24:27<00:28,  7.00s/it]The following generation flags are not valid and may be ignored: ['temperature']. Set `TRANSFORMERS_VERBOSITY=info` for more details.\n",
            "Generating captions:  98%|█████████▊| 145/148 [24:39<00:25,  8.47s/it]"
          ]
        },
        {
          "name": "stdout",
          "output_type": "stream",
          "text": [
            "🖼️ 6af780346b5ccee2 → A tennis player in a teal jacket holds a trophy, standing on a court with spectators in the background. The setting appears to be an outdoor event, possibly a tournament. | ⏱️ 10.81s\n"
          ]
        },
        {
          "name": "stderr",
          "output_type": "stream",
          "text": [
            "The following generation flags are not valid and may be ignored: ['temperature']. Set `TRANSFORMERS_VERBOSITY=info` for more details.\n",
            "Generating captions:  99%|█████████▊| 146/148 [25:01<00:25, 12.72s/it]"
          ]
        },
        {
          "name": "stdout",
          "output_type": "stream",
          "text": [
            "🖼️ 316571203a64905d → The image captures a celebratory moment at a tennis match, where a player in a white shirt is being embraced by another individual, likely a coach or team member, amidst a crowd of spectators. The audience appears engaged and happy, with many smiling and clapping. The setting suggests a professional tennis tournament, given the attire and the presence of security personnel. | ⏱️ 20.99s\n"
          ]
        },
        {
          "name": "stderr",
          "output_type": "stream",
          "text": [
            "The following generation flags are not valid and may be ignored: ['temperature']. Set `TRANSFORMERS_VERBOSITY=info` for more details.\n",
            "Generating captions:  99%|█████████▉| 147/148 [25:10<00:11, 11.36s/it]"
          ]
        },
        {
          "name": "stdout",
          "output_type": "stream",
          "text": [
            "🖼️ d6ab3b60b3f0b7f2 → Two police officers stand guard outside a building with graffiti on the windows and walls. The graffiti includes the word \"SHAME\" in orange spray paint, along with other markings. The scene suggests a protest or demonstration has taken place, possibly related to environmental activism given the visible symbols resembling those of Extinction Rebellion. | ⏱️ 7.47s\n"
          ]
        },
        {
          "name": "stderr",
          "output_type": "stream",
          "text": [
            "The following generation flags are not valid and may be ignored: ['temperature']. Set `TRANSFORMERS_VERBOSITY=info` for more details.\n",
            "Generating captions: 100%|██████████| 148/148 [25:25<00:00, 10.31s/it]"
          ]
        },
        {
          "name": "stdout",
          "output_type": "stream",
          "text": [
            "🖼️ 20133857e5010eb6 → A tennis player, dressed in white, is holding a golden trophy above their head on a grass court. Behind them, several photographers are crouched down, capturing the moment. The setting appears to be a professional tennis match, likely at Wimbledon given the grass court and the style of the trophy. | ⏱️ 14.29s\n",
            "✅ Final save complete.\n"
          ]
        },
        {
          "name": "stderr",
          "output_type": "stream",
          "text": [
            "\n"
          ]
        }
      ],
      "source": [
        "import os\n",
        "import torch\n",
        "import time\n",
        "import json\n",
        "import shutil\n",
        "import gc\n",
        "from PIL import Image\n",
        "from tqdm import tqdm\n",
        "from transformers import Qwen2_5_VLForConditionalGeneration, AutoProcessor\n",
        "from qwen_vl_utils import process_vision_info\n",
        "\n",
        "# Load model\n",
        "# model = Qwen2_5_VLForConditionalGeneration.from_pretrained(\n",
        "#     \"Qwen/Qwen2.5-VL-7B-Instruct\", torch_dtype=\"auto\", device_map=\"auto\"\n",
        "# )\n",
        "# processor = AutoProcessor.from_pretrained(\"Qwen/Qwen2.5-VL-7B-Instruct\")\n",
        "\n",
        "# Paths\n",
        "# image_dir = \"/content/R1_img_giant\"\n",
        "# save_path_drive = \"/content/drive/MyDrive/[EVENTA 2025] Event-Enriched Image Captioning/vlm/qwenvlm7b.json\"\n",
        "# save_path_local = \"/content/qwenvlm7b.json\"\n",
        "\n",
        "image_dir = \"/content/r100_image_1\"\n",
        "save_path_local = \"/content/148_c.json\"\n",
        "save_path_drive = \"/content/drive/MyDrive/[EVENTA 2025] Event-Enriched Image Captioning/vlm/148_c.json\"\n",
        "\n",
        "# Load image list from JSON keys\n",
        "if os.path.exists(save_path_drive):\n",
        "    with open(save_path_drive, \"r\", encoding=\"utf-8\") as f:\n",
        "        results = json.load(f)\n",
        "else:\n",
        "    raise FileNotFoundError(f\"Missing {save_path_local}. Please initialize it first.\")\n",
        "\n",
        "# Config\n",
        "SAVE_EVERY = 10\n",
        "skipped_images = []\n",
        "processed_count = 0\n",
        "start_idx = 0\n",
        "end_idx = 148  # Add your stopping index here\n",
        "\n",
        "# Loop with tqdm progress bar\n",
        "for cur_idx, (filename, caption) in tqdm(enumerate(results.items()), total=len(results), desc=\"Generating captions\"):\n",
        "    if cur_idx < start_idx:\n",
        "        continue\n",
        "    if end_idx is not None and cur_idx >= end_idx:\n",
        "        break\n",
        "    if caption.strip():\n",
        "        continue  # Already has caption\n",
        "\n",
        "    image_path = os.path.join(image_dir, filename+\".jpg\")\n",
        "\n",
        "    try:\n",
        "        image = Image.open(image_path).convert(\"RGB\")\n",
        "\n",
        "        message = [\n",
        "            {\n",
        "                \"role\": \"system\",\n",
        "                \"content\": [{\"type\": \"text\", \"text\": \"Only return plain text with no formatting.\"}]\n",
        "            },\n",
        "            {\n",
        "                \"role\": \"user\",\n",
        "                \"content\": [\n",
        "                    {\"type\": \"image\", \"image\": image},\n",
        "                    {\"type\": \"text\", \"text\": \"Describe this image briefly but with enough detail to convey the main subject and context.\"}\n",
        "                ]\n",
        "            }\n",
        "        ]\n",
        "\n",
        "        # Encode\n",
        "        text = processor.apply_chat_template(message, tokenize=False, add_generation_prompt=True)\n",
        "        image_inputs, video_inputs = process_vision_info([message])\n",
        "        inputs = processor(\n",
        "            text=[text],\n",
        "            images=image_inputs,\n",
        "            videos=video_inputs,\n",
        "            return_tensors=\"pt\",\n",
        "            padding=True\n",
        "        ).to(\"cuda\")\n",
        "\n",
        "        # Generate\n",
        "        t1 = time.time()\n",
        "        with torch.inference_mode():\n",
        "            output_ids = model.generate(**inputs, max_new_tokens=10000, do_sample=False)\n",
        "        elapsed = time.time() - t1\n",
        "\n",
        "        output_ids_trimmed = output_ids[0, inputs.input_ids.shape[1]:]\n",
        "        caption = processor.decode(output_ids_trimmed, skip_special_tokens=True)\n",
        "\n",
        "        results[filename] = caption\n",
        "        processed_count += 1\n",
        "        print(f\"🖼️ {filename} → {caption} | ⏱️ {elapsed:.2f}s\")\n",
        "\n",
        "    except torch.cuda.OutOfMemoryError:\n",
        "        skipped_images.append(image_path)\n",
        "        print(f\"❌ Skipped (Out of memory): {image_path}\")\n",
        "        torch.cuda.empty_cache()\n",
        "        gc.collect()\n",
        "        continue\n",
        "\n",
        "    except Exception as e:\n",
        "        skipped_images.append(image_path)\n",
        "        print(f\"❌ Skipped (Other error): {image_path} | {str(e)}\")\n",
        "        torch.cuda.empty_cache()\n",
        "        gc.collect()\n",
        "        continue\n",
        "\n",
        "    # Periodic saving\n",
        "    if processed_count % SAVE_EVERY == 0:\n",
        "        with open(save_path_local, \"w\", encoding=\"utf-8\") as f:\n",
        "            json.dump(results, f, indent=2, ensure_ascii=False)\n",
        "        shutil.copy(save_path_local, save_path_drive)\n",
        "        print(f\"💾 Intermediate save → {save_path_drive}\")\n",
        "\n",
        "# Final save\n",
        "with open(save_path_local, \"w\", encoding=\"utf-8\") as f:\n",
        "    json.dump(results, f, indent=2, ensure_ascii=False)\n",
        "shutil.copy(save_path_local, save_path_drive)\n",
        "print(\"✅ Final save complete.\")"
      ]
    },
    {
      "cell_type": "code",
      "execution_count": null,
      "metadata": {
        "colab": {
          "base_uri": "https://localhost:8080/"
        },
        "id": "7547fc29",
        "outputId": "6f21f62a-090c-4cdd-c9f0-f9eb6c17d8ca"
      },
      "outputs": [
        {
          "name": "stdout",
          "output_type": "stream",
          "text": [
            "Collecting modelscope\n",
            "  Downloading modelscope-1.27.1-py3-none-any.whl.metadata (39 kB)\n",
            "Requirement already satisfied: requests>=2.25 in /usr/local/lib/python3.11/dist-packages (from modelscope) (2.32.3)\n",
            "Requirement already satisfied: setuptools in /usr/local/lib/python3.11/dist-packages (from modelscope) (75.2.0)\n",
            "Requirement already satisfied: tqdm>=4.64.0 in /usr/local/lib/python3.11/dist-packages (from modelscope) (4.67.1)\n",
            "Requirement already satisfied: urllib3>=1.26 in /usr/local/lib/python3.11/dist-packages (from modelscope) (2.4.0)\n",
            "Requirement already satisfied: charset-normalizer<4,>=2 in /usr/local/lib/python3.11/dist-packages (from requests>=2.25->modelscope) (3.4.2)\n",
            "Requirement already satisfied: idna<4,>=2.5 in /usr/local/lib/python3.11/dist-packages (from requests>=2.25->modelscope) (3.10)\n",
            "Requirement already satisfied: certifi>=2017.4.17 in /usr/local/lib/python3.11/dist-packages (from requests>=2.25->modelscope) (2025.6.15)\n",
            "Downloading modelscope-1.27.1-py3-none-any.whl (5.9 MB)\n",
            "\u001b[2K   \u001b[90m━━━━━━━━━━━━━━━━━━━━━━━━━━━━━━━━━━━━━━━━\u001b[0m \u001b[32m5.9/5.9 MB\u001b[0m \u001b[31m57.7 MB/s\u001b[0m eta \u001b[36m0:00:00\u001b[0m\n",
            "\u001b[?25hInstalling collected packages: modelscope\n",
            "Successfully installed modelscope-1.27.1\n"
          ]
        }
      ],
      "source": [
        "%pip install modelscope"
      ]
    }
  ],
  "metadata": {
    "accelerator": "GPU",
    "colab": {
      "gpuType": "A100",
      "machine_shape": "hm",
      "provenance": []
    },
    "kernelspec": {
      "display_name": "Python 3",
      "name": "python3"
    },
    "language_info": {
      "name": "python"
    },
    "widgets": {
      "application/vnd.jupyter.widget-state+json": {
        "038e418ae82e4f74b9762b7bf1d14ad4": {
          "model_module": "@jupyter-widgets/base",
          "model_module_version": "1.2.0",
          "model_name": "LayoutModel",
          "state": {
            "_model_module": "@jupyter-widgets/base",
            "_model_module_version": "1.2.0",
            "_model_name": "LayoutModel",
            "_view_count": null,
            "_view_module": "@jupyter-widgets/base",
            "_view_module_version": "1.2.0",
            "_view_name": "LayoutView",
            "align_content": null,
            "align_items": null,
            "align_self": null,
            "border": null,
            "bottom": null,
            "display": null,
            "flex": null,
            "flex_flow": null,
            "grid_area": null,
            "grid_auto_columns": null,
            "grid_auto_flow": null,
            "grid_auto_rows": null,
            "grid_column": null,
            "grid_gap": null,
            "grid_row": null,
            "grid_template_areas": null,
            "grid_template_columns": null,
            "grid_template_rows": null,
            "height": null,
            "justify_content": null,
            "justify_items": null,
            "left": null,
            "margin": null,
            "max_height": null,
            "max_width": null,
            "min_height": null,
            "min_width": null,
            "object_fit": null,
            "object_position": null,
            "order": null,
            "overflow": null,
            "overflow_x": null,
            "overflow_y": null,
            "padding": null,
            "right": null,
            "top": null,
            "visibility": null,
            "width": null
          }
        },
        "583737562b8a4837a697bd5bb0ac790b": {
          "model_module": "@jupyter-widgets/controls",
          "model_module_version": "1.5.0",
          "model_name": "FloatProgressModel",
          "state": {
            "_dom_classes": [],
            "_model_module": "@jupyter-widgets/controls",
            "_model_module_version": "1.5.0",
            "_model_name": "FloatProgressModel",
            "_view_count": null,
            "_view_module": "@jupyter-widgets/controls",
            "_view_module_version": "1.5.0",
            "_view_name": "ProgressView",
            "bar_style": "success",
            "description": "",
            "description_tooltip": null,
            "layout": "IPY_MODEL_9f2658dcc36b4b59869980ea9b1bee11",
            "max": 5,
            "min": 0,
            "orientation": "horizontal",
            "style": "IPY_MODEL_770eab4a3f6c4a1da2f3784b7c2000bb",
            "value": 5
          }
        },
        "74cf2d2840234cc6ac2b407e13ad90d4": {
          "model_module": "@jupyter-widgets/base",
          "model_module_version": "1.2.0",
          "model_name": "LayoutModel",
          "state": {
            "_model_module": "@jupyter-widgets/base",
            "_model_module_version": "1.2.0",
            "_model_name": "LayoutModel",
            "_view_count": null,
            "_view_module": "@jupyter-widgets/base",
            "_view_module_version": "1.2.0",
            "_view_name": "LayoutView",
            "align_content": null,
            "align_items": null,
            "align_self": null,
            "border": null,
            "bottom": null,
            "display": null,
            "flex": null,
            "flex_flow": null,
            "grid_area": null,
            "grid_auto_columns": null,
            "grid_auto_flow": null,
            "grid_auto_rows": null,
            "grid_column": null,
            "grid_gap": null,
            "grid_row": null,
            "grid_template_areas": null,
            "grid_template_columns": null,
            "grid_template_rows": null,
            "height": null,
            "justify_content": null,
            "justify_items": null,
            "left": null,
            "margin": null,
            "max_height": null,
            "max_width": null,
            "min_height": null,
            "min_width": null,
            "object_fit": null,
            "object_position": null,
            "order": null,
            "overflow": null,
            "overflow_x": null,
            "overflow_y": null,
            "padding": null,
            "right": null,
            "top": null,
            "visibility": null,
            "width": null
          }
        },
        "770eab4a3f6c4a1da2f3784b7c2000bb": {
          "model_module": "@jupyter-widgets/controls",
          "model_module_version": "1.5.0",
          "model_name": "ProgressStyleModel",
          "state": {
            "_model_module": "@jupyter-widgets/controls",
            "_model_module_version": "1.5.0",
            "_model_name": "ProgressStyleModel",
            "_view_count": null,
            "_view_module": "@jupyter-widgets/base",
            "_view_module_version": "1.2.0",
            "_view_name": "StyleView",
            "bar_color": null,
            "description_width": ""
          }
        },
        "787e63eeb8dd4ca485dd4d2e3ad11a03": {
          "model_module": "@jupyter-widgets/controls",
          "model_module_version": "1.5.0",
          "model_name": "DescriptionStyleModel",
          "state": {
            "_model_module": "@jupyter-widgets/controls",
            "_model_module_version": "1.5.0",
            "_model_name": "DescriptionStyleModel",
            "_view_count": null,
            "_view_module": "@jupyter-widgets/base",
            "_view_module_version": "1.2.0",
            "_view_name": "StyleView",
            "description_width": ""
          }
        },
        "82832e1df8164328a6e1179b10b75c11": {
          "model_module": "@jupyter-widgets/controls",
          "model_module_version": "1.5.0",
          "model_name": "DescriptionStyleModel",
          "state": {
            "_model_module": "@jupyter-widgets/controls",
            "_model_module_version": "1.5.0",
            "_model_name": "DescriptionStyleModel",
            "_view_count": null,
            "_view_module": "@jupyter-widgets/base",
            "_view_module_version": "1.2.0",
            "_view_name": "StyleView",
            "description_width": ""
          }
        },
        "91530e01c8fb4a049b316ffeabfd6d11": {
          "model_module": "@jupyter-widgets/base",
          "model_module_version": "1.2.0",
          "model_name": "LayoutModel",
          "state": {
            "_model_module": "@jupyter-widgets/base",
            "_model_module_version": "1.2.0",
            "_model_name": "LayoutModel",
            "_view_count": null,
            "_view_module": "@jupyter-widgets/base",
            "_view_module_version": "1.2.0",
            "_view_name": "LayoutView",
            "align_content": null,
            "align_items": null,
            "align_self": null,
            "border": null,
            "bottom": null,
            "display": null,
            "flex": null,
            "flex_flow": null,
            "grid_area": null,
            "grid_auto_columns": null,
            "grid_auto_flow": null,
            "grid_auto_rows": null,
            "grid_column": null,
            "grid_gap": null,
            "grid_row": null,
            "grid_template_areas": null,
            "grid_template_columns": null,
            "grid_template_rows": null,
            "height": null,
            "justify_content": null,
            "justify_items": null,
            "left": null,
            "margin": null,
            "max_height": null,
            "max_width": null,
            "min_height": null,
            "min_width": null,
            "object_fit": null,
            "object_position": null,
            "order": null,
            "overflow": null,
            "overflow_x": null,
            "overflow_y": null,
            "padding": null,
            "right": null,
            "top": null,
            "visibility": null,
            "width": null
          }
        },
        "943bc237a6ac467891b04968ea2abc7f": {
          "model_module": "@jupyter-widgets/controls",
          "model_module_version": "1.5.0",
          "model_name": "HTMLModel",
          "state": {
            "_dom_classes": [],
            "_model_module": "@jupyter-widgets/controls",
            "_model_module_version": "1.5.0",
            "_model_name": "HTMLModel",
            "_view_count": null,
            "_view_module": "@jupyter-widgets/controls",
            "_view_module_version": "1.5.0",
            "_view_name": "HTMLView",
            "description": "",
            "description_tooltip": null,
            "layout": "IPY_MODEL_74cf2d2840234cc6ac2b407e13ad90d4",
            "placeholder": "​",
            "style": "IPY_MODEL_82832e1df8164328a6e1179b10b75c11",
            "value": "Loading checkpoint shards: 100%"
          }
        },
        "9f2658dcc36b4b59869980ea9b1bee11": {
          "model_module": "@jupyter-widgets/base",
          "model_module_version": "1.2.0",
          "model_name": "LayoutModel",
          "state": {
            "_model_module": "@jupyter-widgets/base",
            "_model_module_version": "1.2.0",
            "_model_name": "LayoutModel",
            "_view_count": null,
            "_view_module": "@jupyter-widgets/base",
            "_view_module_version": "1.2.0",
            "_view_name": "LayoutView",
            "align_content": null,
            "align_items": null,
            "align_self": null,
            "border": null,
            "bottom": null,
            "display": null,
            "flex": null,
            "flex_flow": null,
            "grid_area": null,
            "grid_auto_columns": null,
            "grid_auto_flow": null,
            "grid_auto_rows": null,
            "grid_column": null,
            "grid_gap": null,
            "grid_row": null,
            "grid_template_areas": null,
            "grid_template_columns": null,
            "grid_template_rows": null,
            "height": null,
            "justify_content": null,
            "justify_items": null,
            "left": null,
            "margin": null,
            "max_height": null,
            "max_width": null,
            "min_height": null,
            "min_width": null,
            "object_fit": null,
            "object_position": null,
            "order": null,
            "overflow": null,
            "overflow_x": null,
            "overflow_y": null,
            "padding": null,
            "right": null,
            "top": null,
            "visibility": null,
            "width": null
          }
        },
        "ab35ed4de3474b34b132bc1454191ea8": {
          "model_module": "@jupyter-widgets/controls",
          "model_module_version": "1.5.0",
          "model_name": "HTMLModel",
          "state": {
            "_dom_classes": [],
            "_model_module": "@jupyter-widgets/controls",
            "_model_module_version": "1.5.0",
            "_model_name": "HTMLModel",
            "_view_count": null,
            "_view_module": "@jupyter-widgets/controls",
            "_view_module_version": "1.5.0",
            "_view_name": "HTMLView",
            "description": "",
            "description_tooltip": null,
            "layout": "IPY_MODEL_038e418ae82e4f74b9762b7bf1d14ad4",
            "placeholder": "​",
            "style": "IPY_MODEL_787e63eeb8dd4ca485dd4d2e3ad11a03",
            "value": " 5/5 [01:11&lt;00:00, 12.26s/it]"
          }
        },
        "c79c8be28ef44f63bad951ee6900cda3": {
          "model_module": "@jupyter-widgets/controls",
          "model_module_version": "1.5.0",
          "model_name": "HBoxModel",
          "state": {
            "_dom_classes": [],
            "_model_module": "@jupyter-widgets/controls",
            "_model_module_version": "1.5.0",
            "_model_name": "HBoxModel",
            "_view_count": null,
            "_view_module": "@jupyter-widgets/controls",
            "_view_module_version": "1.5.0",
            "_view_name": "HBoxView",
            "box_style": "",
            "children": [
              "IPY_MODEL_943bc237a6ac467891b04968ea2abc7f",
              "IPY_MODEL_583737562b8a4837a697bd5bb0ac790b",
              "IPY_MODEL_ab35ed4de3474b34b132bc1454191ea8"
            ],
            "layout": "IPY_MODEL_91530e01c8fb4a049b316ffeabfd6d11"
          }
        }
      }
    }
  },
  "nbformat": 4,
  "nbformat_minor": 0
}
