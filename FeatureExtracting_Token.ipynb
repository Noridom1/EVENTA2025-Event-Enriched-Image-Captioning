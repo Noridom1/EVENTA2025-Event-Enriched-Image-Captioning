{
  "nbformat": 4,
  "nbformat_minor": 0,
  "metadata": {
    "colab": {
      "provenance": [],
      "gpuType": "T4",
      "authorship_tag": "ABX9TyOcwxSjRmDKmnLZez/IOYet",
      "include_colab_link": true
    },
    "kernelspec": {
      "name": "python3",
      "display_name": "Python 3"
    },
    "language_info": {
      "name": "python"
    },
    "accelerator": "GPU"
  },
  "cells": [
    {
      "cell_type": "markdown",
      "metadata": {
        "id": "view-in-github",
        "colab_type": "text"
      },
      "source": [
        "<a href=\"https://colab.research.google.com/github/Noridom1/-EVENTA2025-Event-Enriched-Image-Captioning/blob/main/FeatureExtracting_Token.ipynb\" target=\"_parent\"><img src=\"https://colab.research.google.com/assets/colab-badge.svg\" alt=\"Open In Colab\"/></a>"
      ]
    },
    {
      "cell_type": "code",
      "execution_count": null,
      "metadata": {
        "colab": {
          "base_uri": "https://localhost:8080/"
        },
        "id": "Zh8-gHgOKrAU",
        "outputId": "7b4c03d8-9fe4-4183-89de-051867327a37"
      },
      "outputs": [
        {
          "output_type": "stream",
          "name": "stdout",
          "text": [
            "Cloning into '-EVENTA2025-Event-Enriched-Image-Captioning'...\n",
            "remote: Enumerating objects: 187, done.\u001b[K\n",
            "remote: Counting objects: 100% (16/16), done.\u001b[K\n",
            "remote: Compressing objects: 100% (13/13), done.\u001b[K\n",
            "remote: Total 187 (delta 3), reused 12 (delta 3), pack-reused 171 (from 3)\u001b[K\n",
            "Receiving objects: 100% (187/187), 264.13 MiB | 21.79 MiB/s, done.\n",
            "Resolving deltas: 100% (22/22), done.\n",
            "Updating files: 100% (108/108), done.\n"
          ]
        }
      ],
      "source": [
        "!git clone 'https://github.com/Noridom1/-EVENTA2025-Event-Enriched-Image-Captioning.git'"
      ]
    },
    {
      "cell_type": "code",
      "source": [
        "from google.colab import drive\n",
        "drive.mount('/content/drive')"
      ],
      "metadata": {
        "colab": {
          "base_uri": "https://localhost:8080/"
        },
        "id": "81WBosIFPSXv",
        "outputId": "63d7f5db-cfb6-4043-aaad-3fc2711d0205"
      },
      "execution_count": null,
      "outputs": [
        {
          "output_type": "stream",
          "name": "stdout",
          "text": [
            "Mounted at /content/drive\n"
          ]
        }
      ]
    },
    {
      "cell_type": "code",
      "source": [
        "import shutil\n",
        "\n",
        "shutil.copytree('/content/drive/MyDrive/[EVENTA 2025] Event-Enriched Image Captioning/Token/pre-trained', '/content/-EVENTA2025-Event-Enriched-Image-Captioning/FeatureExtractor/pre-trained')"
      ],
      "metadata": {
        "id": "noi5l-TKPgxp",
        "colab": {
          "base_uri": "https://localhost:8080/",
          "height": 36
        },
        "outputId": "53dbc9f4-ec6a-443a-9905-094847befa05"
      },
      "execution_count": null,
      "outputs": [
        {
          "output_type": "execute_result",
          "data": {
            "text/plain": [
              "'/content/-EVENTA2025-Event-Enriched-Image-Captioning/FeatureExtractor/pre-trained'"
            ],
            "application/vnd.google.colaboratory.intrinsic+json": {
              "type": "string"
            }
          },
          "metadata": {},
          "execution_count": 3
        }
      ]
    },
    {
      "cell_type": "code",
      "source": [
        "%cd '/content/-EVENTA2025-Event-Enriched-Image-Captioning'"
      ],
      "metadata": {
        "colab": {
          "base_uri": "https://localhost:8080/"
        },
        "id": "WKHQ1vPfaUoo",
        "outputId": "8d1f38f9-869d-4f72-bc9c-7fa62c72905e"
      },
      "execution_count": null,
      "outputs": [
        {
          "output_type": "stream",
          "name": "stdout",
          "text": [
            "/content/-EVENTA2025-Event-Enriched-Image-Captioning\n"
          ]
        }
      ]
    },
    {
      "cell_type": "code",
      "source": [
        "from genericpath import exists\n",
        "import zipfile\n",
        "import os\n",
        "import shutil\n",
        "\n",
        "# Path to your zip file\n",
        "zip_path = \"/content/drive/MyDrive/[EVENTA 2025] Event-Enriched Image Captioning/Release/Track 1 - Public Set/images.zip\"\n",
        "# Destination folder\n",
        "extract_path = \"data/data_test\"\n",
        "os.makedirs('data', exist_ok=True)\n",
        "\n",
        "# Extract\n",
        "with zipfile.ZipFile(zip_path, 'r') as zip_ref:\n",
        "    zip_ref.extractall(extract_path)\n",
        "\n",
        "nImages = len(os.listdir(os.path.join(extract_path, \"pub_images\")))\n",
        "print(f\"Number of test images: {nImages}\")\n",
        "\n",
        "print(\"Extraction completed!\")\n"
      ],
      "metadata": {
        "id": "QbBfYCjOaSN0"
      },
      "execution_count": null,
      "outputs": []
    },
    {
      "cell_type": "code",
      "source": [
        "from genericpath import exists\n",
        "import zipfile\n",
        "import os\n",
        "import shutil\n",
        "\n",
        "# Path to your zip file\n",
        "zip_path = \"/content/drive/MyDrive/[EVENTA 2025] Event-Enriched Image Captioning/Release/Train Set/train_original_images.zip\"\n",
        "# Destination folder\n",
        "extract_path = \"data/data_train\"\n",
        "os.makedirs('data', exist_ok=True)\n",
        "\n",
        "# Extract\n",
        "with zipfile.ZipFile(zip_path, 'r') as zip_ref:\n",
        "    zip_ref.extractall(extract_path)\n",
        "\n",
        "folder = os.listdir(extract_path)[0]\n",
        "nImages = len(os.listdir(os.path.join(extract_path, folder)))\n",
        "print(f\"Number of train images: {nImages}\")\n",
        "\n",
        "print(\"Extraction completed!\")\n"
      ],
      "metadata": {
        "colab": {
          "base_uri": "https://localhost:8080/"
        },
        "id": "4F-mz1AwHthP",
        "outputId": "3af8d5b2-4f3f-4316-b370-35ae16f185ad"
      },
      "execution_count": null,
      "outputs": [
        {
          "output_type": "stream",
          "name": "stdout",
          "text": [
            "Number of train images: 22040\n",
            "Extraction completed!\n"
          ]
        }
      ]
    },
    {
      "cell_type": "code",
      "source": [
        "from genericpath import exists\n",
        "import zipfile\n",
        "import os\n",
        "import shutil\n",
        "\n",
        "# Path to your zip file\n",
        "zip_path = \"/content/drive/MyDrive/[EVENTA 2025] Event-Enriched Image Captioning/Release/Database/database_compressed_images.zip\"\n",
        "# Destination folder\n",
        "extract_path = \"data/database\"\n",
        "os.makedirs('data', exist_ok=True)\n",
        "\n",
        "# Extract\n",
        "with zipfile.ZipFile(zip_path, 'r') as zip_ref:\n",
        "    zip_ref.extractall(extract_path)\n",
        "\n",
        "folder = os.listdir(extract_path)[0]\n",
        "nImages = len(os.listdir(os.path.join(extract_path, folder)))\n",
        "print(f\"Number of database images: {nImages}\")\n",
        "\n",
        "print(\"Extraction completed!\")\n"
      ],
      "metadata": {
        "colab": {
          "base_uri": "https://localhost:8080/"
        },
        "id": "BNbOUiGrvISj",
        "outputId": "3b0184b8-3f11-4793-9b0c-488c0804ef41"
      },
      "execution_count": null,
      "outputs": [
        {
          "output_type": "stream",
          "name": "stdout",
          "text": [
            "Number of database images: 415309\n",
            "Extraction completed!\n"
          ]
        }
      ]
    },
    {
      "cell_type": "code",
      "source": [
        "!apt-get install -y p7zip-full\n",
        "!mkdir -p /content/zip_parts\n"
      ],
      "metadata": {
        "colab": {
          "base_uri": "https://localhost:8080/"
        },
        "id": "ayz9EZxBw5so",
        "outputId": "bee1a45d-77c6-4683-ea40-0dd0b1bfa36c"
      },
      "execution_count": null,
      "outputs": [
        {
          "output_type": "stream",
          "name": "stdout",
          "text": [
            "Reading package lists... Done\n",
            "Building dependency tree... Done\n",
            "Reading state information... Done\n",
            "p7zip-full is already the newest version (16.02+dfsg-8).\n",
            "0 upgraded, 0 newly installed, 0 to remove and 34 not upgraded.\n"
          ]
        }
      ]
    },
    {
      "cell_type": "code",
      "source": [
        "import os\n",
        "\n",
        "zip_folder = '/content/drive/MyDrive/[EVENTA 2025] Event-Enriched Image Captioning/Release/Database/database_original_images'  # 🔁 Change this!\n",
        "save_path = '/content/-EVENTA2025-Event-Enriched-Image-Captioning/data/database'  # Extracted files go here\n",
        "\n",
        "!cp \"$zip_folder\"/* /content/zip_parts/\n",
        "\n",
        "# Step 5: Extract using 7-Zip\n",
        "os.makedirs(save_path, exist_ok=True)\n",
        "!7z x /content/zip_parts/database_img_split.zip -o\"{save_path}\"\n",
        "\n",
        "# Step 6: List extracted files (optional)\n",
        "print(\"Extracted files:\")\n",
        "for f in os.listdir(save_path):\n",
        "    print(f)\n"
      ],
      "metadata": {
        "id": "9upsc7zVmcKJ",
        "colab": {
          "base_uri": "https://localhost:8080/"
        },
        "outputId": "a2891e7c-73c4-4ffe-fe38-000bf674d185"
      },
      "execution_count": null,
      "outputs": [
        {
          "output_type": "stream",
          "name": "stdout",
          "text": [
            "cp: error reading '/content/drive/MyDrive/[EVENTA 2025] Event-Enriched Image Captioning/Release/Database/database_original_images/database_img_split.zip': No space left on device\n",
            "\n",
            "7-Zip [64] 16.02 : Copyright (c) 1999-2016 Igor Pavlov : 2016-05-21\n",
            "p7zip Version 16.02 (locale=en_US.UTF-8,Utf16=on,HugeFiles=on,64 bits,2 CPUs Intel(R) Xeon(R) CPU @ 2.20GHz (406F0),ASM,AES-NI)\n",
            "\n",
            "Scanning the drive for archives:\n",
            "  0M Scan /content/zip_parts/\b\b\b\b\b\b\b\b\b\b\b\b\b\b\b\b\b\b\b\b\b\b\b\b\b\b\b\b\b                             \b\b\b\b\b\b\b\b\b\b\b\b\b\b\b\b\b\b\b\b\b\b\b\b\b\b\b\b\b1 file, 6253645824 bytes (5964 MiB)\n",
            "\n",
            "Extracting archive: /content/zip_parts/database_img_split.zip\n",
            "  0% 256 Open\b\b\b\b\b\b\b\b\b\b\b\b\b             \b\b\b\b\b\b\b\b\b\b\b\b\b  1% 512 Open\b\b\b\b\b\b\b\b\b\b\b\b\b             \b\b\b\b\b\b\b\b\b\b\b\b\b  1% 768 Open\b\b\b\b\b\b\b\b\b\b\b\b\b             \b\b\b\b\b\b\b\b\b\b\b\b\b  2% 1024 Open\b\b\b\b\b\b\b\b\b\b\b\b\b\b              \b\b\b\b\b\b\b\b\b\b\b\b\b\b  3% 1280 Open\b\b\b\b\b\b\b\b\b\b\b\b\b\b              \b\b\b\b\b\b\b\b\b\b\b\b\b\b  4% 1792 Open\b\b\b\b\b\b\b\b\b\b\b\b\b\b              \b\b\b\b\b\b\b\b\b\b\b\b\b\b  5% 2048 Open\b\b\b\b\b\b\b\b\b\b\b\b\b\b              \b\b\b\b\b\b\b\b\b\b\b\b\b\b  6% 2560 Open\b\b\b\b\b\b\b\b\b\b\b\b\b\b              \b\b\b\b\b\b\b\b\b\b\b\b\b\b  7% 3072 Open\b\b\b\b\b\b\b\b\b\b\b\b\b\b              \b\b\b\b\b\b\b\b\b\b\b\b\b\b  9% 3584 Open\b\b\b\b\b\b\b\b\b\b\b\b\b\b              \b\b\b\b\b\b\b\b\b\b\b\b\b\b 10% 4096 Open\b\b\b\b\b\b\b\b\b\b\b\b\b\b              \b\b\b\b\b\b\b\b\b\b\b\b\b\b 11% 4608 Open\b\b\b\b\b\b\b\b\b\b\b\b\b\b              \b\b\b\b\b\b\b\b\b\b\b\b\b\b 12% 4864 Open\b\b\b\b\b\b\b\b\b\b\b\b\b\b              \b\b\b\b\b\b\b\b\b\b\b\b\b\b 13% 5376 Open\b\b\b\b\b\b\b\b\b\b\b\b\b\b              \b\b\b\b\b\b\b\b\b\b\b\b\b\b 14% 5632 Open\b\b\b\b\b\b\b\b\b\b\b\b\b\b              \b\b\b\b\b\b\b\b\b\b\b\b\b\b 15% 6144 Open\b\b\b\b\b\b\b\b\b\b\b\b\b\b              \b\b\b\b\b\b\b\b\b\b\b\b\b\b 16% 6656 Open\b\b\b\b\b\b\b\b\b\b\b\b\b\b              \b\b\b\b\b\b\b\b\b\b\b\b\b\b 18% 7168 Open\b\b\b\b\b\b\b\b\b\b\b\b\b\b              \b\b\b\b\b\b\b\b\b\b\b\b\b\b 19% 7680 Open\b\b\b\b\b\b\b\b\b\b\b\b\b\b              \b\b\b\b\b\b\b\b\b\b\b\b\b\b 20% 8192 Open\b\b\b\b\b\b\b\b\b\b\b\b\b\b              \b\b\b\b\b\b\b\b\b\b\b\b\b\b 22% 8704 Open\b\b\b\b\b\b\b\b\b\b\b\b\b\b              \b\b\b\b\b\b\b\b\b\b\b\b\b\b 23% 9216 Open\b\b\b\b\b\b\b\b\b\b\b\b\b\b              \b\b\b\b\b\b\b\b\b\b\b\b\b\b 25% 9728 Open\b\b\b\b\b\b\b\b\b\b\b\b\b\b              \b\b\b\b\b\b\b\b\b\b\b\b\b\b 26% 10240 Open\b\b\b\b\b\b\b\b\b\b\b\b\b\b\b               \b\b\b\b\b\b\b\b\b\b\b\b\b\b\b 27% 10752 Open\b\b\b\b\b\b\b\b\b\b\b\b\b\b\b               \b\b\b\b\b\b\b\b\b\b\b\b\b\b\b 29% 11264 Open\b\b\b\b\b\b\b\b\b\b\b\b\b\b\b               \b\b\b\b\b\b\b\b\b\b\b\b\b\b\b 29% 11520 Open\b\b\b\b\b\b\b\b\b\b\b\b\b\b\b               \b\b\b\b\b\b\b\b\b\b\b\b\b\b\b 31% 12032 Open\b\b\b\b\b\b\b\b\b\b\b\b\b\b\b               \b\b\b\b\b\b\b\b\b\b\b\b\b\b\b 32% 12544 Open\b\b\b\b\b\b\b\b\b\b\b\b\b\b\b               \b\b\b\b\b\b\b\b\b\b\b\b\b\b\b 33% 13056 Open\b\b\b\b\b\b\b\b\b\b\b\b\b\b\b               \b\b\b\b\b\b\b\b\b\b\b\b\b\b\b 35% 13568 Open\b\b\b\b\b\b\b\b\b\b\b\b\b\b\b               \b\b\b\b\b\b\b\b\b\b\b\b\b\b\b 35% 13824 Open\b\b\b\b\b\b\b\b\b\b\b\b\b\b\b               \b\b\b\b\b\b\b\b\b\b\b\b\b\b\b 37% 14336 Open\b\b\b\b\b\b\b\b\b\b\b\b\b\b\b               \b\b\b\b\b\b\b\b\b\b\b\b\b\b\b 38% 14848 Open\b\b\b\b\b\b\b\b\b\b\b\b\b\b\b               \b\b\b\b\b\b\b\b\b\b\b\b\b\b\b 39% 15360 Open\b\b\b\b\b\b\b\b\b\b\b\b\b\b\b               \b\b\b\b\b\b\b\b\b\b\b\b\b\b\b 41% 15872 Open\b\b\b\b\b\b\b\b\b\b\b\b\b\b\b               \b\b\b\b\b\b\b\b\b\b\b\b\b\b\b 42% 16384 Open\b\b\b\b\b\b\b\b\b\b\b\b\b\b\b               \b\b\b\b\b\b\b\b\b\b\b\b\b\b\b 43% 16896 Open\b\b\b\b\b\b\b\b\b\b\b\b\b\b\b               \b\b\b\b\b\b\b\b\b\b\b\b\b\b\b 44% 17408 Open\b\b\b\b\b\b\b\b\b\b\b\b\b\b\b               \b\b\b\b\b\b\b\b\b\b\b\b\b\b\b 46% 17920 Open\b\b\b\b\b\b\b\b\b\b\b\b\b\b\b               \b\b\b\b\b\b\b\b\b\b\b\b\b\b\b 47% 18432 Open\b\b\b\b\b\b\b\b\b\b\b\b\b\b\b               \b\b\b\b\b\b\b\b\b\b\b\b\b\b\b 48% 18944 Open\b\b\b\b\b\b\b\b\b\b\b\b\b\b\b               \b\b\b\b\b\b\b\b\b\b\b\b\b\b\b 50% 19456 Open\b\b\b\b\b\b\b\b\b\b\b\b\b\b\b               \b\b\b\b\b\b\b\b\b\b\b\b\b\b\b 51% 19968 Open\b\b\b\b\b\b\b\b\b\b\b\b\b\b\b               \b\b\b\b\b\b\b\b\b\b\b\b\b\b\b 52% 20480 Open\b\b\b\b\b\b\b\b\b\b\b\b\b\b\b               \b\b\b\b\b\b\b\b\b\b\b\b\b\b\b 53% 20992 Open\b\b\b\b\b\b\b\b\b\b\b\b\b\b\b               \b\b\b\b\b\b\b\b\b\b\b\b\b\b\b 55% 21504 Open\b\b\b\b\b\b\b\b\b\b\b\b\b\b\b               \b\b\b\b\b\b\b\b\b\b\b\b\b\b\b 56% 22016 Open\b\b\b\b\b\b\b\b\b\b\b\b\b\b\b               \b\b\b\b\b\b\b\b\b\b\b\b\b\b\b 57% 22272 Open\b\b\b\b\b\b\b\b\b\b\b\b\b\b\b               \b\b\b\b\b\b\b\b\b\b\b\b\b\b\b 58% 22784 Open\b\b\b\b\b\b\b\b\b\b\b\b\b\b\b               \b\b\b\b\b\b\b\b\b\b\b\b\b\b\b 59% 23040 Open\b\b\b\b\b\b\b\b\b\b\b\b\b\b\b               \b\b\b\b\b\b\b\b\b\b\b\b\b\b\b 61% 23552 Open\b\b\b\b\b\b\b\b\b\b\b\b\b\b\b               \b\b\b\b\b\b\b\b\b\b\b\b\b\b\b 62% 24064 Open\b\b\b\b\b\b\b\b\b\b\b\b\b\b\b               \b\b\b\b\b\b\b\b\b\b\b\b\b\b\b 63% 24576 Open\b\b\b\b\b\b\b\b\b\b\b\b\b\b\b               \b\b\b\b\b\b\b\b\b\b\b\b\b\b\b 64% 24832 Open\b\b\b\b\b\b\b\b\b\b\b\b\b\b\b               \b\b\b\b\b\b\b\b\b\b\b\b\b\b\b 65% 25344 Open\b\b\b\b\b\b\b\b\b\b\b\b\b\b\b               \b\b\b\b\b\b\b\b\b\b\b\b\b\b\bERROR: /content/zip_parts/database_img_split.zip\n",
            "/content/zip_parts/database_img_split.zip\n",
            "Open ERROR: Can not open the file as [zip] archive\n",
            "\n",
            "\n",
            "ERRORS:\n",
            "Is not archive\n",
            "100%\b\b\b\b    \b\b\b\b\n",
            "Can't open as archive: 1\n",
            "Files: 0\n",
            "Size:       0\n",
            "Compressed: 0\n",
            "Extracted files:\n"
          ]
        }
      ]
    },
    {
      "cell_type": "markdown",
      "source": [],
      "metadata": {
        "id": "pLdwBYiDmb82"
      }
    },
    {
      "cell_type": "code",
      "source": [
        "%pwd"
      ],
      "metadata": {
        "colab": {
          "base_uri": "https://localhost:8080/",
          "height": 36
        },
        "id": "wlb91HcpdPW9",
        "outputId": "e424c05f-f4d4-47d3-ba27-89462ce7fe38"
      },
      "execution_count": null,
      "outputs": [
        {
          "output_type": "execute_result",
          "data": {
            "text/plain": [
              "'/content'"
            ],
            "application/vnd.google.colaboratory.intrinsic+json": {
              "type": "string"
            }
          },
          "metadata": {},
          "execution_count": 6
        }
      ]
    },
    {
      "cell_type": "code",
      "source": [
        "%cd 'FeatureExtractor'"
      ],
      "metadata": {
        "colab": {
          "base_uri": "https://localhost:8080/"
        },
        "id": "5B58sGqXZrF6",
        "outputId": "343aaaa3-480c-4a49-93fb-46cf833abf9a"
      },
      "execution_count": null,
      "outputs": [
        {
          "output_type": "stream",
          "name": "stdout",
          "text": [
            "/content/-EVENTA2025-Event-Enriched-Image-Captioning/FeatureExtractor\n"
          ]
        }
      ]
    },
    {
      "cell_type": "markdown",
      "source": [
        "# Generate dataset"
      ],
      "metadata": {
        "id": "dRe6ywvCKj2V"
      }
    },
    {
      "cell_type": "code",
      "source": [
        "!python testing/generate_queries.py \\\n",
        "  --image_dir \"/content/-EVENTA2025-Event-Enriched-Image-Captioning/data/data_train/train_images\" \\\n",
        "  --save_dir \"/content/drive/MyDrive/[EVENTA 2025] Event-Enriched Image Captioning/Token/small_test2\" \\\n",
        "  --num_image 200"
      ],
      "metadata": {
        "colab": {
          "base_uri": "https://localhost:8080/"
        },
        "id": "TFgcXbmqIcgu",
        "outputId": "cab5c2ae-8ffa-4240-8a08-d26ce9e3adce"
      },
      "execution_count": null,
      "outputs": [
        {
          "output_type": "stream",
          "name": "stdout",
          "text": [
            "[INFO] Selected 200 images\n",
            "[INFO] Loaded 200 images\n",
            "[INFO] Applied transformation\n",
            "[INFO] Generated ground_truth\n",
            "[INFO] Saved small test set successfully\n"
          ]
        }
      ]
    },
    {
      "cell_type": "markdown",
      "source": [
        "# Extract query features"
      ],
      "metadata": {
        "id": "TsYEDNgNKujv"
      }
    },
    {
      "cell_type": "code",
      "source": [
        "MODEL_PATH = 'pre-trained/R101-Token.pth'\n",
        "IMAGE_DIR = '/content/drive/MyDrive/[EVENTA 2025] Event-Enriched Image Captioning/Token/small_test2/images'\n",
        "SAVE_PATH = '/content/drive/MyDrive/[EVENTA 2025] Event-Enriched Image Captioning/Token/small_test2/query_features.pkl'\n",
        "\n",
        "!python main.py \\\n",
        "  --model_path \"$MODEL_PATH\" \\\n",
        "  --image_dir \"$IMAGE_DIR\" \\\n",
        "  --save_path \"$SAVE_PATH\" \\\n",
        "  --batch_size 16 \\\n",
        "  --num_workers 2\n"
      ],
      "metadata": {
        "colab": {
          "base_uri": "https://localhost:8080/"
        },
        "id": "dRobp6NBMWyG",
        "outputId": "f782a6f9-56e2-4618-ef52-3c7bf8d25469"
      },
      "execution_count": null,
      "outputs": [
        {
          "output_type": "stream",
          "name": "stdout",
          "text": [
            "/usr/local/lib/python3.11/dist-packages/torchvision/models/_utils.py:208: UserWarning: The parameter 'pretrained' is deprecated since 0.13 and may be removed in the future, please use 'weights' instead.\n",
            "  warnings.warn(\n",
            "/usr/local/lib/python3.11/dist-packages/torchvision/models/_utils.py:223: UserWarning: Arguments other than a weight enum or `None` for 'weights' are deprecated since 0.13 and may be removed in the future. The current behavior is equivalent to passing `weights=ResNet101_Weights.IMAGENET1K_V1`. You can also use `weights=ResNet101_Weights.DEFAULT` to get the most up-to-date weights.\n",
            "  warnings.warn(msg)\n",
            "[INFO] Successfully load the model\n",
            "[INFO] Successfully load the dataset\n",
            "Extracting features: 100% 13/13 [01:15<00:00,  5.77s/batch]\n",
            "Saved 200 features to /content/drive/MyDrive/[EVENTA 2025] Event-Enriched Image Captioning/Token/small_test2/query_features.pkl\n",
            "[INFO] Finished extracting features in 75.03 seconds.\n"
          ]
        }
      ]
    },
    {
      "cell_type": "markdown",
      "source": [],
      "metadata": {
        "id": "W2DNMB6NJQak"
      }
    }
  ]
}