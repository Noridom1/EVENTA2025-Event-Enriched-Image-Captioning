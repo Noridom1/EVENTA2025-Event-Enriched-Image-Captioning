{
  "cells": [
    {
      "cell_type": "markdown",
      "metadata": {
        "id": "view-in-github",
        "colab_type": "text"
      },
      "source": [
        "<a href=\"https://colab.research.google.com/github/Noridom1/-EVENTA2025-Event-Enriched-Image-Captioning/blob/main/SimCLR.ipynb\" target=\"_parent\"><img src=\"https://colab.research.google.com/assets/colab-badge.svg\" alt=\"Open In Colab\"/></a>"
      ]
    },
    {
      "cell_type": "markdown",
      "metadata": {
        "id": "l9QwR8fxkWiv"
      },
      "source": [
        "# Data Preparation\n"
      ]
    },
    {
      "cell_type": "code",
      "execution_count": null,
      "metadata": {
        "colab": {
          "base_uri": "https://localhost:8080/"
        },
        "id": "Cyin-VortrDK",
        "outputId": "2ee32f45-7478-42e5-8047-aeedd485d366"
      },
      "outputs": [
        {
          "output_type": "stream",
          "name": "stdout",
          "text": [
            "Cloning into 'Decoupled-Contrastive-Learning'...\n",
            "remote: Enumerating objects: 93, done.\u001b[K\n",
            "remote: Counting objects: 100% (93/93), done.\u001b[K\n",
            "remote: Compressing objects: 100% (66/66), done.\u001b[K\n",
            "remote: Total 93 (delta 39), reused 73 (delta 24), pack-reused 0 (from 0)\u001b[K\n",
            "Receiving objects: 100% (93/93), 24.64 KiB | 3.52 MiB/s, done.\n",
            "Resolving deltas: 100% (39/39), done.\n"
          ]
        }
      ],
      "source": [
        "!git clone 'https://github.com/Noridom1/Decoupled-Contrastive-Learning.git'"
      ]
    },
    {
      "cell_type": "code",
      "execution_count": null,
      "metadata": {
        "colab": {
          "base_uri": "https://localhost:8080/"
        },
        "id": "K2DOd_XXgGFg",
        "outputId": "7151efcc-e4e4-424c-9d28-666ccfecc27f"
      },
      "outputs": [
        {
          "output_type": "stream",
          "name": "stdout",
          "text": [
            "Mounted at /content/drive\n"
          ]
        }
      ],
      "source": [
        "from google.colab import drive\n",
        "drive.mount('/content/drive')"
      ]
    },
    {
      "cell_type": "code",
      "execution_count": null,
      "metadata": {
        "colab": {
          "base_uri": "https://localhost:8080/"
        },
        "id": "njIOzzeSvpOs",
        "outputId": "9bdd0af6-31e9-46ad-c8de-00bf88e5dd5e"
      },
      "outputs": [
        {
          "output_type": "stream",
          "name": "stdout",
          "text": [
            "/content/Decoupled-Contrastive-Learning\n"
          ]
        }
      ],
      "source": [
        "%cd \"/content/Decoupled-Contrastive-Learning\""
      ]
    },
    {
      "cell_type": "code",
      "execution_count": null,
      "metadata": {
        "id": "Zxm9slN1fuhQ"
      },
      "outputs": [],
      "source": [
        "from genericpath import exists\n",
        "import zipfile\n",
        "import os\n",
        "import shutil\n",
        "\n",
        "# Path to your zip file\n",
        "zip_path = \"/content/drive/MyDrive/[EVENTA 2025] Event-Enriched Image Captioning/Release/Train Set/train_original_images.zip\"\n",
        "# Destination folder\n",
        "extract_path = \"data/data_train\"\n",
        "os.makedirs('data', exist_ok=True)\n",
        "\n",
        "# Extract\n",
        "with zipfile.ZipFile(zip_path, 'r') as zip_ref:\n",
        "    zip_ref.extractall(extract_path)\n",
        "\n",
        "shutil.copy(\n",
        "    \"/content/drive/MyDrive/[EVENTA 2025] Event-Enriched Image Captioning/Release/Database/database.json\",\n",
        "    'data'\n",
        "    )\n",
        "\n",
        "# shutil.copytree('/content/drive/MyDrive/SimCLR_checkpoint', 'results')\n",
        "nImages = len(os.listdir(os.path.join(extract_path, \"train_images\")))\n",
        "print(f\"Number of train images: {nImages}\")\n",
        "\n",
        "print(\"Extraction completed!\")\n"
      ]
    },
    {
      "cell_type": "code",
      "execution_count": null,
      "metadata": {
        "id": "Ai9EgxkazDd5"
      },
      "outputs": [],
      "source": [
        "len(os.listdir('/content/Decoupled-Contrastive-Learning/data/data_train/train_images'))"
      ]
    },
    {
      "cell_type": "markdown",
      "metadata": {
        "id": "06El7KtmeIS4"
      },
      "source": [
        "# Start training"
      ]
    },
    {
      "cell_type": "code",
      "execution_count": null,
      "metadata": {
        "id": "v6UQSy42tvSq"
      },
      "outputs": [],
      "source": [
        "DATASET='/content/Decoupled-Contrastive-Learning/data/data_train/train_images'\n",
        "\n",
        "BATCH_SIZE=256\n",
        "LOSS=\"dclw\"\n",
        "TEMP=0.1\n",
        "CHECKPOINT_ROOT = '/content/drive/MyDrive/SimCLR_checkpoint'\n",
        "\n",
        "!python train.py \\\n",
        "  --batch_size $BATCH_SIZE \\\n",
        "  --epochs 100 \\\n",
        "  --feature_dim 128 \\\n",
        "  --loss $LOSS \\\n",
        "  --temperature $TEMP \\\n",
        "  --dataset $DATASET \\\n",
        "  --resume \\\n",
        "  --checkpoint_root $CHECKPOINT_ROOT\n"
      ]
    },
    {
      "cell_type": "code",
      "execution_count": null,
      "metadata": {
        "colab": {
          "base_uri": "https://localhost:8080/",
          "height": 36
        },
        "id": "MsKVZg_lfyi4",
        "outputId": "2d77dd8a-1d9f-401f-da91-b144badf06be"
      },
      "outputs": [
        {
          "data": {
            "application/vnd.google.colaboratory.intrinsic+json": {
              "type": "string"
            },
            "text/plain": [
              "'/content/drive/MyDrive/SiCLR_checkpoint'"
            ]
          },
          "execution_count": 26,
          "metadata": {},
          "output_type": "execute_result"
        }
      ],
      "source": [
        "shutil.copytree('/content/Decoupled-Contrastive-Learning/results', '/content/drive/MyDrive/SimCLR_checkpoint' )"
      ]
    },
    {
      "cell_type": "markdown",
      "metadata": {
        "id": "LAkNH_Rv3Q0Y"
      },
      "source": []
    }
  ],
  "metadata": {
    "accelerator": "GPU",
    "colab": {
      "gpuType": "T4",
      "provenance": [],
      "include_colab_link": true
    },
    "kernelspec": {
      "display_name": "Python 3",
      "name": "python3"
    },
    "language_info": {
      "name": "python"
    }
  },
  "nbformat": 4,
  "nbformat_minor": 0
}